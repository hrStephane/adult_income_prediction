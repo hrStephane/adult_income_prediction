{
 "cells": [
  {
   "cell_type": "code",
   "execution_count": 1,
   "id": "b4227f3e",
   "metadata": {
    "_cell_guid": "b1076dfc-b9ad-4769-8c92-a6c4dae69d19",
    "_uuid": "8f2839f25d086af736a60e9eeb907d3b93b6e0e5",
    "execution": {
     "iopub.execute_input": "2024-02-23T14:14:19.127155Z",
     "iopub.status.busy": "2024-02-23T14:14:19.126235Z",
     "iopub.status.idle": "2024-02-23T14:14:20.056654Z",
     "shell.execute_reply": "2024-02-23T14:14:20.055368Z"
    },
    "papermill": {
     "duration": 0.9437,
     "end_time": "2024-02-23T14:14:20.059407",
     "exception": false,
     "start_time": "2024-02-23T14:14:19.115707",
     "status": "completed"
    },
    "tags": []
   },
   "outputs": [
    {
     "name": "stdout",
     "output_type": "stream",
     "text": [
      "/kaggle/input/adult-income-dataset/adult.csv\n"
     ]
    }
   ],
   "source": [
    "# This Python 3 environment comes with many helpful analytics libraries installed\n",
    "# It is defined by the kaggle/python Docker image: https://github.com/kaggle/docker-python\n",
    "# For example, here's several helpful packages to load\n",
    "\n",
    "import numpy as np # linear algebra\n",
    "import pandas as pd # data processing, CSV file I/O (e.g. pd.read_csv)\n",
    "\n",
    "# Input data files are available in the read-only \"../input/\" directory\n",
    "# For example, running this (by clicking run or pressing Shift+Enter) will list all files under the input directory\n",
    "\n",
    "import os\n",
    "for dirname, _, filenames in os.walk('/kaggle/input'):\n",
    "    for filename in filenames:\n",
    "        print(os.path.join(dirname, filename))\n",
    "\n",
    "# You can write up to 20GB to the current directory (/kaggle/working/) that gets preserved as output when you create a version using \"Save & Run All\" \n",
    "# You can also write temporary files to /kaggle/temp/, but they won't be saved outside of the current session"
   ]
  },
  {
   "cell_type": "markdown",
   "id": "23baa1c1",
   "metadata": {
    "papermill": {
     "duration": 0.007427,
     "end_time": "2024-02-23T14:14:20.074943",
     "exception": false,
     "start_time": "2024-02-23T14:14:20.067516",
     "status": "completed"
    },
    "tags": []
   },
   "source": [
    "### Init data"
   ]
  },
  {
   "cell_type": "code",
   "execution_count": 2,
   "id": "0e616729",
   "metadata": {
    "execution": {
     "iopub.execute_input": "2024-02-23T14:14:20.092645Z",
     "iopub.status.busy": "2024-02-23T14:14:20.092094Z",
     "iopub.status.idle": "2024-02-23T14:14:21.534642Z",
     "shell.execute_reply": "2024-02-23T14:14:21.533638Z"
    },
    "papermill": {
     "duration": 1.454713,
     "end_time": "2024-02-23T14:14:21.537436",
     "exception": false,
     "start_time": "2024-02-23T14:14:20.082723",
     "status": "completed"
    },
    "tags": []
   },
   "outputs": [],
   "source": [
    "import matplotlib.pyplot as plt\n",
    "import seaborn as sns"
   ]
  },
  {
   "cell_type": "code",
   "execution_count": 3,
   "id": "c97e77ca",
   "metadata": {
    "execution": {
     "iopub.execute_input": "2024-02-23T14:14:21.555829Z",
     "iopub.status.busy": "2024-02-23T14:14:21.555049Z",
     "iopub.status.idle": "2024-02-23T14:14:21.808453Z",
     "shell.execute_reply": "2024-02-23T14:14:21.807111Z"
    },
    "papermill": {
     "duration": 0.26517,
     "end_time": "2024-02-23T14:14:21.810913",
     "exception": false,
     "start_time": "2024-02-23T14:14:21.545743",
     "status": "completed"
    },
    "tags": []
   },
   "outputs": [
    {
     "data": {
      "text/html": [
       "<div>\n",
       "<style scoped>\n",
       "    .dataframe tbody tr th:only-of-type {\n",
       "        vertical-align: middle;\n",
       "    }\n",
       "\n",
       "    .dataframe tbody tr th {\n",
       "        vertical-align: top;\n",
       "    }\n",
       "\n",
       "    .dataframe thead th {\n",
       "        text-align: right;\n",
       "    }\n",
       "</style>\n",
       "<table border=\"1\" class=\"dataframe\">\n",
       "  <thead>\n",
       "    <tr style=\"text-align: right;\">\n",
       "      <th></th>\n",
       "      <th>age</th>\n",
       "      <th>workclass</th>\n",
       "      <th>fnlwgt</th>\n",
       "      <th>education</th>\n",
       "      <th>educational-num</th>\n",
       "      <th>marital-status</th>\n",
       "      <th>occupation</th>\n",
       "      <th>relationship</th>\n",
       "      <th>race</th>\n",
       "      <th>gender</th>\n",
       "      <th>capital-gain</th>\n",
       "      <th>capital-loss</th>\n",
       "      <th>hours-per-week</th>\n",
       "      <th>native-country</th>\n",
       "      <th>income</th>\n",
       "    </tr>\n",
       "  </thead>\n",
       "  <tbody>\n",
       "    <tr>\n",
       "      <th>0</th>\n",
       "      <td>25</td>\n",
       "      <td>Private</td>\n",
       "      <td>226802</td>\n",
       "      <td>11th</td>\n",
       "      <td>7</td>\n",
       "      <td>Never-married</td>\n",
       "      <td>Machine-op-inspct</td>\n",
       "      <td>Own-child</td>\n",
       "      <td>Black</td>\n",
       "      <td>Male</td>\n",
       "      <td>0</td>\n",
       "      <td>0</td>\n",
       "      <td>40</td>\n",
       "      <td>United-States</td>\n",
       "      <td>&lt;=50K</td>\n",
       "    </tr>\n",
       "    <tr>\n",
       "      <th>1</th>\n",
       "      <td>38</td>\n",
       "      <td>Private</td>\n",
       "      <td>89814</td>\n",
       "      <td>HS-grad</td>\n",
       "      <td>9</td>\n",
       "      <td>Married-civ-spouse</td>\n",
       "      <td>Farming-fishing</td>\n",
       "      <td>Husband</td>\n",
       "      <td>White</td>\n",
       "      <td>Male</td>\n",
       "      <td>0</td>\n",
       "      <td>0</td>\n",
       "      <td>50</td>\n",
       "      <td>United-States</td>\n",
       "      <td>&lt;=50K</td>\n",
       "    </tr>\n",
       "    <tr>\n",
       "      <th>2</th>\n",
       "      <td>28</td>\n",
       "      <td>Local-gov</td>\n",
       "      <td>336951</td>\n",
       "      <td>Assoc-acdm</td>\n",
       "      <td>12</td>\n",
       "      <td>Married-civ-spouse</td>\n",
       "      <td>Protective-serv</td>\n",
       "      <td>Husband</td>\n",
       "      <td>White</td>\n",
       "      <td>Male</td>\n",
       "      <td>0</td>\n",
       "      <td>0</td>\n",
       "      <td>40</td>\n",
       "      <td>United-States</td>\n",
       "      <td>&gt;50K</td>\n",
       "    </tr>\n",
       "    <tr>\n",
       "      <th>3</th>\n",
       "      <td>44</td>\n",
       "      <td>Private</td>\n",
       "      <td>160323</td>\n",
       "      <td>Some-college</td>\n",
       "      <td>10</td>\n",
       "      <td>Married-civ-spouse</td>\n",
       "      <td>Machine-op-inspct</td>\n",
       "      <td>Husband</td>\n",
       "      <td>Black</td>\n",
       "      <td>Male</td>\n",
       "      <td>7688</td>\n",
       "      <td>0</td>\n",
       "      <td>40</td>\n",
       "      <td>United-States</td>\n",
       "      <td>&gt;50K</td>\n",
       "    </tr>\n",
       "    <tr>\n",
       "      <th>4</th>\n",
       "      <td>18</td>\n",
       "      <td>?</td>\n",
       "      <td>103497</td>\n",
       "      <td>Some-college</td>\n",
       "      <td>10</td>\n",
       "      <td>Never-married</td>\n",
       "      <td>?</td>\n",
       "      <td>Own-child</td>\n",
       "      <td>White</td>\n",
       "      <td>Female</td>\n",
       "      <td>0</td>\n",
       "      <td>0</td>\n",
       "      <td>30</td>\n",
       "      <td>United-States</td>\n",
       "      <td>&lt;=50K</td>\n",
       "    </tr>\n",
       "    <tr>\n",
       "      <th>5</th>\n",
       "      <td>34</td>\n",
       "      <td>Private</td>\n",
       "      <td>198693</td>\n",
       "      <td>10th</td>\n",
       "      <td>6</td>\n",
       "      <td>Never-married</td>\n",
       "      <td>Other-service</td>\n",
       "      <td>Not-in-family</td>\n",
       "      <td>White</td>\n",
       "      <td>Male</td>\n",
       "      <td>0</td>\n",
       "      <td>0</td>\n",
       "      <td>30</td>\n",
       "      <td>United-States</td>\n",
       "      <td>&lt;=50K</td>\n",
       "    </tr>\n",
       "    <tr>\n",
       "      <th>6</th>\n",
       "      <td>29</td>\n",
       "      <td>?</td>\n",
       "      <td>227026</td>\n",
       "      <td>HS-grad</td>\n",
       "      <td>9</td>\n",
       "      <td>Never-married</td>\n",
       "      <td>?</td>\n",
       "      <td>Unmarried</td>\n",
       "      <td>Black</td>\n",
       "      <td>Male</td>\n",
       "      <td>0</td>\n",
       "      <td>0</td>\n",
       "      <td>40</td>\n",
       "      <td>United-States</td>\n",
       "      <td>&lt;=50K</td>\n",
       "    </tr>\n",
       "    <tr>\n",
       "      <th>7</th>\n",
       "      <td>63</td>\n",
       "      <td>Self-emp-not-inc</td>\n",
       "      <td>104626</td>\n",
       "      <td>Prof-school</td>\n",
       "      <td>15</td>\n",
       "      <td>Married-civ-spouse</td>\n",
       "      <td>Prof-specialty</td>\n",
       "      <td>Husband</td>\n",
       "      <td>White</td>\n",
       "      <td>Male</td>\n",
       "      <td>3103</td>\n",
       "      <td>0</td>\n",
       "      <td>32</td>\n",
       "      <td>United-States</td>\n",
       "      <td>&gt;50K</td>\n",
       "    </tr>\n",
       "    <tr>\n",
       "      <th>8</th>\n",
       "      <td>24</td>\n",
       "      <td>Private</td>\n",
       "      <td>369667</td>\n",
       "      <td>Some-college</td>\n",
       "      <td>10</td>\n",
       "      <td>Never-married</td>\n",
       "      <td>Other-service</td>\n",
       "      <td>Unmarried</td>\n",
       "      <td>White</td>\n",
       "      <td>Female</td>\n",
       "      <td>0</td>\n",
       "      <td>0</td>\n",
       "      <td>40</td>\n",
       "      <td>United-States</td>\n",
       "      <td>&lt;=50K</td>\n",
       "    </tr>\n",
       "    <tr>\n",
       "      <th>9</th>\n",
       "      <td>55</td>\n",
       "      <td>Private</td>\n",
       "      <td>104996</td>\n",
       "      <td>7th-8th</td>\n",
       "      <td>4</td>\n",
       "      <td>Married-civ-spouse</td>\n",
       "      <td>Craft-repair</td>\n",
       "      <td>Husband</td>\n",
       "      <td>White</td>\n",
       "      <td>Male</td>\n",
       "      <td>0</td>\n",
       "      <td>0</td>\n",
       "      <td>10</td>\n",
       "      <td>United-States</td>\n",
       "      <td>&lt;=50K</td>\n",
       "    </tr>\n",
       "  </tbody>\n",
       "</table>\n",
       "</div>"
      ],
      "text/plain": [
       "   age         workclass  fnlwgt     education  educational-num  \\\n",
       "0   25           Private  226802          11th                7   \n",
       "1   38           Private   89814       HS-grad                9   \n",
       "2   28         Local-gov  336951    Assoc-acdm               12   \n",
       "3   44           Private  160323  Some-college               10   \n",
       "4   18                 ?  103497  Some-college               10   \n",
       "5   34           Private  198693          10th                6   \n",
       "6   29                 ?  227026       HS-grad                9   \n",
       "7   63  Self-emp-not-inc  104626   Prof-school               15   \n",
       "8   24           Private  369667  Some-college               10   \n",
       "9   55           Private  104996       7th-8th                4   \n",
       "\n",
       "       marital-status         occupation   relationship   race  gender  \\\n",
       "0       Never-married  Machine-op-inspct      Own-child  Black    Male   \n",
       "1  Married-civ-spouse    Farming-fishing        Husband  White    Male   \n",
       "2  Married-civ-spouse    Protective-serv        Husband  White    Male   \n",
       "3  Married-civ-spouse  Machine-op-inspct        Husband  Black    Male   \n",
       "4       Never-married                  ?      Own-child  White  Female   \n",
       "5       Never-married      Other-service  Not-in-family  White    Male   \n",
       "6       Never-married                  ?      Unmarried  Black    Male   \n",
       "7  Married-civ-spouse     Prof-specialty        Husband  White    Male   \n",
       "8       Never-married      Other-service      Unmarried  White  Female   \n",
       "9  Married-civ-spouse       Craft-repair        Husband  White    Male   \n",
       "\n",
       "   capital-gain  capital-loss  hours-per-week native-country income  \n",
       "0             0             0              40  United-States  <=50K  \n",
       "1             0             0              50  United-States  <=50K  \n",
       "2             0             0              40  United-States   >50K  \n",
       "3          7688             0              40  United-States   >50K  \n",
       "4             0             0              30  United-States  <=50K  \n",
       "5             0             0              30  United-States  <=50K  \n",
       "6             0             0              40  United-States  <=50K  \n",
       "7          3103             0              32  United-States   >50K  \n",
       "8             0             0              40  United-States  <=50K  \n",
       "9             0             0              10  United-States  <=50K  "
      ]
     },
     "execution_count": 3,
     "metadata": {},
     "output_type": "execute_result"
    }
   ],
   "source": [
    "data = pd.read_csv('/kaggle/input/adult-income-dataset/adult.csv')\n",
    "df = data.copy()\n",
    "df.head(10)"
   ]
  },
  {
   "cell_type": "markdown",
   "id": "f5dbccf8",
   "metadata": {
    "papermill": {
     "duration": 0.008967,
     "end_time": "2024-02-23T14:14:21.828363",
     "exception": false,
     "start_time": "2024-02-23T14:14:21.819396",
     "status": "completed"
    },
    "tags": []
   },
   "source": [
    "#### dataset overview"
   ]
  },
  {
   "cell_type": "code",
   "execution_count": 4,
   "id": "e32da054",
   "metadata": {
    "execution": {
     "iopub.execute_input": "2024-02-23T14:14:21.847359Z",
     "iopub.status.busy": "2024-02-23T14:14:21.846630Z",
     "iopub.status.idle": "2024-02-23T14:14:21.899427Z",
     "shell.execute_reply": "2024-02-23T14:14:21.898365Z"
    },
    "papermill": {
     "duration": 0.065381,
     "end_time": "2024-02-23T14:14:21.902229",
     "exception": false,
     "start_time": "2024-02-23T14:14:21.836848",
     "status": "completed"
    },
    "tags": []
   },
   "outputs": [
    {
     "name": "stdout",
     "output_type": "stream",
     "text": [
      "(48842, 15)\n",
      "<class 'pandas.core.frame.DataFrame'>\n",
      "RangeIndex: 48842 entries, 0 to 48841\n",
      "Data columns (total 15 columns):\n",
      " #   Column           Non-Null Count  Dtype \n",
      "---  ------           --------------  ----- \n",
      " 0   age              48842 non-null  int64 \n",
      " 1   workclass        48842 non-null  object\n",
      " 2   fnlwgt           48842 non-null  int64 \n",
      " 3   education        48842 non-null  object\n",
      " 4   educational-num  48842 non-null  int64 \n",
      " 5   marital-status   48842 non-null  object\n",
      " 6   occupation       48842 non-null  object\n",
      " 7   relationship     48842 non-null  object\n",
      " 8   race             48842 non-null  object\n",
      " 9   gender           48842 non-null  object\n",
      " 10  capital-gain     48842 non-null  int64 \n",
      " 11  capital-loss     48842 non-null  int64 \n",
      " 12  hours-per-week   48842 non-null  int64 \n",
      " 13  native-country   48842 non-null  object\n",
      " 14  income           48842 non-null  object\n",
      "dtypes: int64(6), object(9)\n",
      "memory usage: 5.6+ MB\n"
     ]
    },
    {
     "data": {
      "text/plain": [
       "None"
      ]
     },
     "metadata": {},
     "output_type": "display_data"
    }
   ],
   "source": [
    "print(df.shape)\n",
    "display(df.info())"
   ]
  },
  {
   "cell_type": "markdown",
   "id": "df892509",
   "metadata": {
    "papermill": {
     "duration": 0.00813,
     "end_time": "2024-02-23T14:14:21.919019",
     "exception": false,
     "start_time": "2024-02-23T14:14:21.910889",
     "status": "completed"
    },
    "tags": []
   },
   "source": [
    "Missing values : '?' indicates missing values in the dataset."
   ]
  },
  {
   "cell_type": "code",
   "execution_count": 5,
   "id": "e802bfa7",
   "metadata": {
    "execution": {
     "iopub.execute_input": "2024-02-23T14:14:21.939719Z",
     "iopub.status.busy": "2024-02-23T14:14:21.939293Z",
     "iopub.status.idle": "2024-02-23T14:14:21.975884Z",
     "shell.execute_reply": "2024-02-23T14:14:21.974734Z"
    },
    "papermill": {
     "duration": 0.048997,
     "end_time": "2024-02-23T14:14:21.978320",
     "exception": false,
     "start_time": "2024-02-23T14:14:21.929323",
     "status": "completed"
    },
    "tags": []
   },
   "outputs": [
    {
     "data": {
      "text/plain": [
       "age                   0\n",
       "workclass          2799\n",
       "fnlwgt                0\n",
       "education             0\n",
       "educational-num       0\n",
       "marital-status        0\n",
       "occupation         2809\n",
       "relationship          0\n",
       "race                  0\n",
       "gender                0\n",
       "capital-gain          0\n",
       "capital-loss          0\n",
       "hours-per-week        0\n",
       "native-country      857\n",
       "income                0\n",
       "dtype: int64"
      ]
     },
     "metadata": {},
     "output_type": "display_data"
    }
   ],
   "source": [
    "display(df.isin(['?']).sum())"
   ]
  },
  {
   "cell_type": "markdown",
   "id": "642a066c",
   "metadata": {
    "papermill": {
     "duration": 0.008343,
     "end_time": "2024-02-23T14:14:21.995357",
     "exception": false,
     "start_time": "2024-02-23T14:14:21.987014",
     "status": "completed"
    },
    "tags": []
   },
   "source": [
    "education and educational-num both indicate the education level"
   ]
  },
  {
   "cell_type": "code",
   "execution_count": 6,
   "id": "20afa214",
   "metadata": {
    "execution": {
     "iopub.execute_input": "2024-02-23T14:14:22.014871Z",
     "iopub.status.busy": "2024-02-23T14:14:22.014049Z",
     "iopub.status.idle": "2024-02-23T14:14:22.054835Z",
     "shell.execute_reply": "2024-02-23T14:14:22.053435Z"
    },
    "papermill": {
     "duration": 0.053455,
     "end_time": "2024-02-23T14:14:22.057395",
     "exception": false,
     "start_time": "2024-02-23T14:14:22.003940",
     "status": "completed"
    },
    "tags": []
   },
   "outputs": [
    {
     "name": "stdout",
     "output_type": "stream",
     "text": [
      "income                         <=50K      >50K\n",
      "native-country                                \n",
      "?                           0.743291  0.256709\n",
      "Cambodia                    0.678571  0.321429\n",
      "Canada                      0.653846  0.346154\n",
      "China                       0.704918  0.295082\n",
      "Columbia                    0.952941  0.047059\n",
      "Cuba                        0.753623  0.246377\n",
      "Dominican-Republic          0.951456  0.048544\n",
      "Ecuador                     0.866667  0.133333\n",
      "El-Salvador                 0.929032  0.070968\n",
      "England                     0.629921  0.370079\n",
      "France                      0.578947  0.421053\n",
      "Germany                     0.718447  0.281553\n",
      "Greece                      0.632653  0.367347\n",
      "Guatemala                   0.965909  0.034091\n",
      "Haiti                       0.880000  0.120000\n",
      "Holand-Netherlands          1.000000       NaN\n",
      "Honduras                    0.900000  0.100000\n",
      "Hong                        0.733333  0.266667\n",
      "Hungary                     0.684211  0.315789\n",
      "India                       0.589404  0.410596\n",
      "Iran                        0.627119  0.372881\n",
      "Ireland                     0.702703  0.297297\n",
      "Italy                       0.676190  0.323810\n",
      "Jamaica                     0.858491  0.141509\n",
      "Japan                       0.652174  0.347826\n",
      "Laos                        0.913043  0.086957\n",
      "Mexico                      0.950578  0.049422\n",
      "Nicaragua                   0.938776  0.061224\n",
      "Outlying-US(Guam-USVI-etc)  0.956522  0.043478\n",
      "Peru                        0.913043  0.086957\n",
      "Philippines                 0.711864  0.288136\n",
      "Poland                      0.804598  0.195402\n",
      "Portugal                    0.820896  0.179104\n",
      "Puerto-Rico                 0.891304  0.108696\n",
      "Scotland                    0.857143  0.142857\n",
      "South                       0.826087  0.173913\n",
      "Taiwan                      0.600000  0.400000\n",
      "Thailand                    0.833333  0.166667\n",
      "Trinadad&Tobago             0.925926  0.074074\n",
      "United-States               0.756023  0.243977\n",
      "Vietnam                     0.918605  0.081395\n",
      "Yugoslavia                  0.652174  0.347826\n"
     ]
    },
    {
     "data": {
      "text/plain": [
       "<Figure size 1200x800 with 0 Axes>"
      ]
     },
     "metadata": {},
     "output_type": "display_data"
    }
   ],
   "source": [
    "grouped_data = df.groupby(['native-country', 'income']).size().unstack()\n",
    "\n",
    "# Normalize the counts to get percentages if needed\n",
    "grouped_data = grouped_data.div(grouped_data.sum(axis=1), axis=0)\n",
    "\n",
    "# Plotting\n",
    "plt.figure(figsize=(12, 8))\n",
    "print(grouped_data)\n"
   ]
  },
  {
   "cell_type": "code",
   "execution_count": 7,
   "id": "918d7692",
   "metadata": {
    "execution": {
     "iopub.execute_input": "2024-02-23T14:14:22.077423Z",
     "iopub.status.busy": "2024-02-23T14:14:22.076512Z",
     "iopub.status.idle": "2024-02-23T14:14:22.089060Z",
     "shell.execute_reply": "2024-02-23T14:14:22.087968Z"
    },
    "papermill": {
     "duration": 0.025334,
     "end_time": "2024-02-23T14:14:22.091686",
     "exception": false,
     "start_time": "2024-02-23T14:14:22.066352",
     "status": "completed"
    },
    "tags": []
   },
   "outputs": [
    {
     "data": {
      "text/plain": [
       "native-country\n",
       "United-States                 43832\n",
       "Mexico                          951\n",
       "?                               857\n",
       "Philippines                     295\n",
       "Germany                         206\n",
       "Puerto-Rico                     184\n",
       "Canada                          182\n",
       "El-Salvador                     155\n",
       "India                           151\n",
       "Cuba                            138\n",
       "England                         127\n",
       "China                           122\n",
       "South                           115\n",
       "Jamaica                         106\n",
       "Italy                           105\n",
       "Dominican-Republic              103\n",
       "Japan                            92\n",
       "Guatemala                        88\n",
       "Poland                           87\n",
       "Vietnam                          86\n",
       "Columbia                         85\n",
       "Haiti                            75\n",
       "Portugal                         67\n",
       "Taiwan                           65\n",
       "Iran                             59\n",
       "Greece                           49\n",
       "Nicaragua                        49\n",
       "Peru                             46\n",
       "Ecuador                          45\n",
       "France                           38\n",
       "Ireland                          37\n",
       "Hong                             30\n",
       "Thailand                         30\n",
       "Cambodia                         28\n",
       "Trinadad&Tobago                  27\n",
       "Laos                             23\n",
       "Yugoslavia                       23\n",
       "Outlying-US(Guam-USVI-etc)       23\n",
       "Scotland                         21\n",
       "Honduras                         20\n",
       "Hungary                          19\n",
       "Holand-Netherlands                1\n",
       "Name: count, dtype: int64"
      ]
     },
     "execution_count": 7,
     "metadata": {},
     "output_type": "execute_result"
    }
   ],
   "source": [
    "df['native-country'].value_counts()"
   ]
  },
  {
   "cell_type": "markdown",
   "id": "a982ec51",
   "metadata": {
    "papermill": {
     "duration": 0.008478,
     "end_time": "2024-02-23T14:14:22.109205",
     "exception": false,
     "start_time": "2024-02-23T14:14:22.100727",
     "status": "completed"
    },
    "tags": []
   },
   "source": [
    "- Country : \n",
    "Holand-Netherlands has only one entry. \n",
    "We can't split it randomly and train an encoder."
   ]
  },
  {
   "cell_type": "code",
   "execution_count": 8,
   "id": "b685a0e9",
   "metadata": {
    "execution": {
     "iopub.execute_input": "2024-02-23T14:14:22.129246Z",
     "iopub.status.busy": "2024-02-23T14:14:22.128582Z",
     "iopub.status.idle": "2024-02-23T14:14:22.141195Z",
     "shell.execute_reply": "2024-02-23T14:14:22.139735Z"
    },
    "papermill": {
     "duration": 0.025923,
     "end_time": "2024-02-23T14:14:22.143918",
     "exception": false,
     "start_time": "2024-02-23T14:14:22.117995",
     "status": "completed"
    },
    "tags": []
   },
   "outputs": [
    {
     "name": "stdout",
     "output_type": "stream",
     "text": [
      "16\n",
      "16\n"
     ]
    }
   ],
   "source": [
    "print(len(df['educational-num'].unique()))\n",
    "print(len(df['education'].unique()))"
   ]
  },
  {
   "cell_type": "code",
   "execution_count": 9,
   "id": "1cb95610",
   "metadata": {
    "execution": {
     "iopub.execute_input": "2024-02-23T14:14:22.164641Z",
     "iopub.status.busy": "2024-02-23T14:14:22.164254Z",
     "iopub.status.idle": "2024-02-23T14:14:22.181282Z",
     "shell.execute_reply": "2024-02-23T14:14:22.180098Z"
    },
    "papermill": {
     "duration": 0.030222,
     "end_time": "2024-02-23T14:14:22.183908",
     "exception": false,
     "start_time": "2024-02-23T14:14:22.153686",
     "status": "completed"
    },
    "tags": []
   },
   "outputs": [
    {
     "name": "stdout",
     "output_type": "stream",
     "text": [
      "education\n",
      "Preschool        [1]\n",
      "1st-4th          [2]\n",
      "5th-6th          [3]\n",
      "7th-8th          [4]\n",
      "9th              [5]\n",
      "10th             [6]\n",
      "11th             [7]\n",
      "12th             [8]\n",
      "HS-grad          [9]\n",
      "Some-college    [10]\n",
      "Assoc-voc       [11]\n",
      "Assoc-acdm      [12]\n",
      "Bachelors       [13]\n",
      "Masters         [14]\n",
      "Prof-school     [15]\n",
      "Doctorate       [16]\n",
      "Name: educational-num, dtype: object\n"
     ]
    }
   ],
   "source": [
    "education_mapping = data.groupby('education')['educational-num'].unique()\n",
    "print(education_mapping.sort_values())"
   ]
  },
  {
   "cell_type": "markdown",
   "id": "05406251",
   "metadata": {
    "papermill": {
     "duration": 0.008671,
     "end_time": "2024-02-23T14:14:22.201810",
     "exception": false,
     "start_time": "2024-02-23T14:14:22.193139",
     "status": "completed"
    },
    "tags": []
   },
   "source": [
    "edutcation and educationnal-num bring the same information : education inducate the level of education, educational-num indicate the years"
   ]
  },
  {
   "cell_type": "markdown",
   "id": "e3ef51e1",
   "metadata": {
    "papermill": {
     "duration": 0.008808,
     "end_time": "2024-02-23T14:14:22.219809",
     "exception": false,
     "start_time": "2024-02-23T14:14:22.211001",
     "status": "completed"
    },
    "tags": []
   },
   "source": [
    "we won't remove capital gain and capital loss. But their values are to variant so we need to handle more outlying values"
   ]
  },
  {
   "cell_type": "code",
   "execution_count": 10,
   "id": "e4e23391",
   "metadata": {
    "execution": {
     "iopub.execute_input": "2024-02-23T14:14:22.241231Z",
     "iopub.status.busy": "2024-02-23T14:14:22.240360Z",
     "iopub.status.idle": "2024-02-23T14:14:22.863306Z",
     "shell.execute_reply": "2024-02-23T14:14:22.862098Z"
    },
    "papermill": {
     "duration": 0.636602,
     "end_time": "2024-02-23T14:14:22.866167",
     "exception": false,
     "start_time": "2024-02-23T14:14:22.229565",
     "status": "completed"
    },
    "tags": []
   },
   "outputs": [],
   "source": [
    "from sklearn.compose import make_column_transformer\n",
    "from sklearn.pipeline import make_pipeline\n",
    "from sklearn.preprocessing import OrdinalEncoder, LabelEncoder, RobustScaler, StandardScaler, FunctionTransformer\n",
    "from sklearn.impute import SimpleImputer, KNNImputer\n",
    "\n",
    "from sklearn.model_selection import train_test_split\n",
    "from sklearn.ensemble import RandomForestClassifier\n",
    "from sklearn.neighbors import KNeighborsClassifier\n",
    "\n",
    "from sklearn.model_selection import GridSearchCV"
   ]
  },
  {
   "cell_type": "markdown",
   "id": "82611d7e",
   "metadata": {
    "papermill": {
     "duration": 0.008694,
     "end_time": "2024-02-23T14:14:22.884180",
     "exception": false,
     "start_time": "2024-02-23T14:14:22.875486",
     "status": "completed"
    },
    "tags": []
   },
   "source": [
    "### Setup dataset"
   ]
  },
  {
   "cell_type": "code",
   "execution_count": 11,
   "id": "7d9a2143",
   "metadata": {
    "execution": {
     "iopub.execute_input": "2024-02-23T14:14:22.904255Z",
     "iopub.status.busy": "2024-02-23T14:14:22.903850Z",
     "iopub.status.idle": "2024-02-23T14:14:22.974302Z",
     "shell.execute_reply": "2024-02-23T14:14:22.973260Z"
    },
    "papermill": {
     "duration": 0.083716,
     "end_time": "2024-02-23T14:14:22.977015",
     "exception": false,
     "start_time": "2024-02-23T14:14:22.893299",
     "status": "completed"
    },
    "tags": []
   },
   "outputs": [],
   "source": [
    "df = df.replace('?', np.nan)\n",
    "\n",
    "y = df['income']\n",
    "X = df.drop(['income', 'educational-num'], axis=1)\n",
    "\n",
    "num_cols = X.select_dtypes(include=np.number).columns.tolist()\n",
    "cat_cols = X.select_dtypes(include='object').columns.tolist()\n",
    "cat_cols = [col for col in cat_cols if col != 'native-country']\n",
    "capital_cols = ['capital-gain', 'capital-loss']\n",
    "num_cols = [col for col in num_cols if col not in capital_cols]"
   ]
  },
  {
   "cell_type": "code",
   "execution_count": 12,
   "id": "f0c7d49c",
   "metadata": {
    "execution": {
     "iopub.execute_input": "2024-02-23T14:14:22.998294Z",
     "iopub.status.busy": "2024-02-23T14:14:22.997542Z",
     "iopub.status.idle": "2024-02-23T14:14:23.003268Z",
     "shell.execute_reply": "2024-02-23T14:14:23.002415Z"
    },
    "papermill": {
     "duration": 0.018925,
     "end_time": "2024-02-23T14:14:23.005411",
     "exception": false,
     "start_time": "2024-02-23T14:14:22.986486",
     "status": "completed"
    },
    "tags": []
   },
   "outputs": [
    {
     "data": {
      "text/plain": [
       "['workclass',\n",
       " 'education',\n",
       " 'marital-status',\n",
       " 'occupation',\n",
       " 'relationship',\n",
       " 'race',\n",
       " 'gender']"
      ]
     },
     "execution_count": 12,
     "metadata": {},
     "output_type": "execute_result"
    }
   ],
   "source": [
    "cat_cols"
   ]
  },
  {
   "cell_type": "code",
   "execution_count": 13,
   "id": "ecde438e",
   "metadata": {
    "execution": {
     "iopub.execute_input": "2024-02-23T14:14:23.026044Z",
     "iopub.status.busy": "2024-02-23T14:14:23.025355Z",
     "iopub.status.idle": "2024-02-23T14:14:23.052188Z",
     "shell.execute_reply": "2024-02-23T14:14:23.050947Z"
    },
    "papermill": {
     "duration": 0.039938,
     "end_time": "2024-02-23T14:14:23.054604",
     "exception": false,
     "start_time": "2024-02-23T14:14:23.014666",
     "status": "completed"
    },
    "tags": []
   },
   "outputs": [
    {
     "data": {
      "text/plain": [
       "age                  0\n",
       "workclass         2799\n",
       "fnlwgt               0\n",
       "education            0\n",
       "marital-status       0\n",
       "occupation        2809\n",
       "relationship         0\n",
       "race                 0\n",
       "gender               0\n",
       "capital-gain         0\n",
       "capital-loss         0\n",
       "hours-per-week       0\n",
       "native-country     857\n",
       "dtype: int64"
      ]
     },
     "metadata": {},
     "output_type": "display_data"
    }
   ],
   "source": [
    "display(X.isnull().sum())"
   ]
  },
  {
   "cell_type": "markdown",
   "id": "7b0fad8d",
   "metadata": {
    "papermill": {
     "duration": 0.008748,
     "end_time": "2024-02-23T14:14:23.072719",
     "exception": false,
     "start_time": "2024-02-23T14:14:23.063971",
     "status": "completed"
    },
    "tags": []
   },
   "source": [
    "**Country encoding**"
   ]
  },
  {
   "cell_type": "code",
   "execution_count": 14,
   "id": "be2d1c12",
   "metadata": {
    "execution": {
     "iopub.execute_input": "2024-02-23T14:14:23.092763Z",
     "iopub.status.busy": "2024-02-23T14:14:23.092332Z",
     "iopub.status.idle": "2024-02-23T14:14:23.100771Z",
     "shell.execute_reply": "2024-02-23T14:14:23.099526Z"
    },
    "papermill": {
     "duration": 0.02121,
     "end_time": "2024-02-23T14:14:23.103035",
     "exception": false,
     "start_time": "2024-02-23T14:14:23.081825",
     "status": "completed"
    },
    "tags": []
   },
   "outputs": [],
   "source": [
    "countries = X['native-country'].unique()\n",
    "country_dict = {country: i for i, country in enumerate(countries)}\n",
    "\n",
    "\n",
    "def encode_country(X):\n",
    "        encoded_val = pd.Series(X.squeeze()).map(country_dict)\n",
    "        return pd.DataFrame(encoded_val)\n",
    "\n",
    "def decode_country(X):\n",
    "    X = pd.Series(X.squeeze()).map({v: k for k, v in country_dict.items()})\n",
    "    return X\n",
    "\n",
    "\n",
    "country_encoder = FunctionTransformer(encode_country, decode_country, check_inverse=False)"
   ]
  },
  {
   "cell_type": "code",
   "execution_count": 15,
   "id": "1fa784e3",
   "metadata": {
    "execution": {
     "iopub.execute_input": "2024-02-23T14:14:23.123400Z",
     "iopub.status.busy": "2024-02-23T14:14:23.122957Z",
     "iopub.status.idle": "2024-02-23T14:14:23.128274Z",
     "shell.execute_reply": "2024-02-23T14:14:23.127527Z"
    },
    "papermill": {
     "duration": 0.018282,
     "end_time": "2024-02-23T14:14:23.130783",
     "exception": false,
     "start_time": "2024-02-23T14:14:23.112501",
     "status": "completed"
    },
    "tags": []
   },
   "outputs": [
    {
     "name": "stdout",
     "output_type": "stream",
     "text": [
      "['workclass', 'education', 'marital-status', 'occupation', 'relationship', 'race', 'gender'] ['age', 'fnlwgt', 'hours-per-week']\n"
     ]
    }
   ],
   "source": [
    "print(cat_cols, num_cols)"
   ]
  },
  {
   "cell_type": "markdown",
   "id": "293e55fd",
   "metadata": {
    "papermill": {
     "duration": 0.009889,
     "end_time": "2024-02-23T14:14:23.150259",
     "exception": false,
     "start_time": "2024-02-23T14:14:23.140370",
     "status": "completed"
    },
    "tags": []
   },
   "source": [
    "**define transformers**"
   ]
  },
  {
   "cell_type": "code",
   "execution_count": 16,
   "id": "c714fdde",
   "metadata": {
    "execution": {
     "iopub.execute_input": "2024-02-23T14:14:23.171090Z",
     "iopub.status.busy": "2024-02-23T14:14:23.170669Z",
     "iopub.status.idle": "2024-02-23T14:14:23.177239Z",
     "shell.execute_reply": "2024-02-23T14:14:23.175924Z"
    },
    "papermill": {
     "duration": 0.019436,
     "end_time": "2024-02-23T14:14:23.179285",
     "exception": false,
     "start_time": "2024-02-23T14:14:23.159849",
     "status": "completed"
    },
    "tags": []
   },
   "outputs": [],
   "source": [
    "country_pipeline = make_pipeline(\n",
    "        SimpleImputer(strategy='most_frequent', missing_values=np.nan),\n",
    "        country_encoder\n",
    "    )\n",
    "\n",
    "cat_pipeline = make_pipeline(\n",
    "        SimpleImputer(strategy='constant', fill_value='unknown'),\n",
    "        OrdinalEncoder()\n",
    "    )\n",
    "\n",
    "num_pipeline = make_pipeline(\n",
    "        StandardScaler()\n",
    "    )\n",
    "\n",
    "capital_pipeline = make_pipeline(\n",
    "        RobustScaler()\n",
    "    )\n",
    "\n",
    "preprocessor = make_column_transformer(\n",
    "        (country_pipeline, ['native-country']),\n",
    "        (cat_pipeline, cat_cols),\n",
    "        (num_pipeline, num_cols),\n",
    "        (capital_pipeline, capital_cols)\n",
    "    )\n",
    "\n"
   ]
  },
  {
   "cell_type": "code",
   "execution_count": 17,
   "id": "7408122b",
   "metadata": {
    "execution": {
     "iopub.execute_input": "2024-02-23T14:14:23.200336Z",
     "iopub.status.busy": "2024-02-23T14:14:23.199892Z",
     "iopub.status.idle": "2024-02-23T14:14:23.247634Z",
     "shell.execute_reply": "2024-02-23T14:14:23.246422Z"
    },
    "papermill": {
     "duration": 0.061793,
     "end_time": "2024-02-23T14:14:23.250682",
     "exception": false,
     "start_time": "2024-02-23T14:14:23.188889",
     "status": "completed"
    },
    "tags": []
   },
   "outputs": [
    {
     "data": {
      "text/html": [
       "<style>#sk-container-id-1 {color: black;background-color: white;}#sk-container-id-1 pre{padding: 0;}#sk-container-id-1 div.sk-toggleable {background-color: white;}#sk-container-id-1 label.sk-toggleable__label {cursor: pointer;display: block;width: 100%;margin-bottom: 0;padding: 0.3em;box-sizing: border-box;text-align: center;}#sk-container-id-1 label.sk-toggleable__label-arrow:before {content: \"▸\";float: left;margin-right: 0.25em;color: #696969;}#sk-container-id-1 label.sk-toggleable__label-arrow:hover:before {color: black;}#sk-container-id-1 div.sk-estimator:hover label.sk-toggleable__label-arrow:before {color: black;}#sk-container-id-1 div.sk-toggleable__content {max-height: 0;max-width: 0;overflow: hidden;text-align: left;background-color: #f0f8ff;}#sk-container-id-1 div.sk-toggleable__content pre {margin: 0.2em;color: black;border-radius: 0.25em;background-color: #f0f8ff;}#sk-container-id-1 input.sk-toggleable__control:checked~div.sk-toggleable__content {max-height: 200px;max-width: 100%;overflow: auto;}#sk-container-id-1 input.sk-toggleable__control:checked~label.sk-toggleable__label-arrow:before {content: \"▾\";}#sk-container-id-1 div.sk-estimator input.sk-toggleable__control:checked~label.sk-toggleable__label {background-color: #d4ebff;}#sk-container-id-1 div.sk-label input.sk-toggleable__control:checked~label.sk-toggleable__label {background-color: #d4ebff;}#sk-container-id-1 input.sk-hidden--visually {border: 0;clip: rect(1px 1px 1px 1px);clip: rect(1px, 1px, 1px, 1px);height: 1px;margin: -1px;overflow: hidden;padding: 0;position: absolute;width: 1px;}#sk-container-id-1 div.sk-estimator {font-family: monospace;background-color: #f0f8ff;border: 1px dotted black;border-radius: 0.25em;box-sizing: border-box;margin-bottom: 0.5em;}#sk-container-id-1 div.sk-estimator:hover {background-color: #d4ebff;}#sk-container-id-1 div.sk-parallel-item::after {content: \"\";width: 100%;border-bottom: 1px solid gray;flex-grow: 1;}#sk-container-id-1 div.sk-label:hover label.sk-toggleable__label {background-color: #d4ebff;}#sk-container-id-1 div.sk-serial::before {content: \"\";position: absolute;border-left: 1px solid gray;box-sizing: border-box;top: 0;bottom: 0;left: 50%;z-index: 0;}#sk-container-id-1 div.sk-serial {display: flex;flex-direction: column;align-items: center;background-color: white;padding-right: 0.2em;padding-left: 0.2em;position: relative;}#sk-container-id-1 div.sk-item {position: relative;z-index: 1;}#sk-container-id-1 div.sk-parallel {display: flex;align-items: stretch;justify-content: center;background-color: white;position: relative;}#sk-container-id-1 div.sk-item::before, #sk-container-id-1 div.sk-parallel-item::before {content: \"\";position: absolute;border-left: 1px solid gray;box-sizing: border-box;top: 0;bottom: 0;left: 50%;z-index: -1;}#sk-container-id-1 div.sk-parallel-item {display: flex;flex-direction: column;z-index: 1;position: relative;background-color: white;}#sk-container-id-1 div.sk-parallel-item:first-child::after {align-self: flex-end;width: 50%;}#sk-container-id-1 div.sk-parallel-item:last-child::after {align-self: flex-start;width: 50%;}#sk-container-id-1 div.sk-parallel-item:only-child::after {width: 0;}#sk-container-id-1 div.sk-dashed-wrapped {border: 1px dashed gray;margin: 0 0.4em 0.5em 0.4em;box-sizing: border-box;padding-bottom: 0.4em;background-color: white;}#sk-container-id-1 div.sk-label label {font-family: monospace;font-weight: bold;display: inline-block;line-height: 1.2em;}#sk-container-id-1 div.sk-label-container {text-align: center;}#sk-container-id-1 div.sk-container {/* jupyter's `normalize.less` sets `[hidden] { display: none; }` but bootstrap.min.css set `[hidden] { display: none !important; }` so we also need the `!important` here to be able to override the default hidden behavior on the sphinx rendered scikit-learn.org. See: https://github.com/scikit-learn/scikit-learn/issues/21755 */display: inline-block !important;position: relative;}#sk-container-id-1 div.sk-text-repr-fallback {display: none;}</style><div id=\"sk-container-id-1\" class=\"sk-top-container\"><div class=\"sk-text-repr-fallback\"><pre>ColumnTransformer(transformers=[(&#x27;pipeline-1&#x27;,\n",
       "                                 Pipeline(steps=[(&#x27;simpleimputer&#x27;,\n",
       "                                                  SimpleImputer(strategy=&#x27;most_frequent&#x27;)),\n",
       "                                                 (&#x27;functiontransformer&#x27;,\n",
       "                                                  FunctionTransformer(check_inverse=False,\n",
       "                                                                      func=&lt;function encode_country at 0x7d0c39205000&gt;,\n",
       "                                                                      inverse_func=&lt;function decode_country at 0x7d0c39205120&gt;))]),\n",
       "                                 [&#x27;native-country&#x27;]),\n",
       "                                (&#x27;pipeline-2&#x27;,\n",
       "                                 Pipeline(steps=[(&#x27;simpleimput...\n",
       "                                                  SimpleImputer(fill_value=&#x27;unknown&#x27;,\n",
       "                                                                strategy=&#x27;constant&#x27;)),\n",
       "                                                 (&#x27;ordinalencoder&#x27;,\n",
       "                                                  OrdinalEncoder())]),\n",
       "                                 [&#x27;workclass&#x27;, &#x27;education&#x27;, &#x27;marital-status&#x27;,\n",
       "                                  &#x27;occupation&#x27;, &#x27;relationship&#x27;, &#x27;race&#x27;,\n",
       "                                  &#x27;gender&#x27;]),\n",
       "                                (&#x27;pipeline-3&#x27;,\n",
       "                                 Pipeline(steps=[(&#x27;standardscaler&#x27;,\n",
       "                                                  StandardScaler())]),\n",
       "                                 [&#x27;age&#x27;, &#x27;fnlwgt&#x27;, &#x27;hours-per-week&#x27;]),\n",
       "                                (&#x27;pipeline-4&#x27;,\n",
       "                                 Pipeline(steps=[(&#x27;robustscaler&#x27;,\n",
       "                                                  RobustScaler())]),\n",
       "                                 [&#x27;capital-gain&#x27;, &#x27;capital-loss&#x27;])])</pre><b>In a Jupyter environment, please rerun this cell to show the HTML representation or trust the notebook. <br />On GitHub, the HTML representation is unable to render, please try loading this page with nbviewer.org.</b></div><div class=\"sk-container\" hidden><div class=\"sk-item sk-dashed-wrapped\"><div class=\"sk-label-container\"><div class=\"sk-label sk-toggleable\"><input class=\"sk-toggleable__control sk-hidden--visually\" id=\"sk-estimator-id-1\" type=\"checkbox\" ><label for=\"sk-estimator-id-1\" class=\"sk-toggleable__label sk-toggleable__label-arrow\">ColumnTransformer</label><div class=\"sk-toggleable__content\"><pre>ColumnTransformer(transformers=[(&#x27;pipeline-1&#x27;,\n",
       "                                 Pipeline(steps=[(&#x27;simpleimputer&#x27;,\n",
       "                                                  SimpleImputer(strategy=&#x27;most_frequent&#x27;)),\n",
       "                                                 (&#x27;functiontransformer&#x27;,\n",
       "                                                  FunctionTransformer(check_inverse=False,\n",
       "                                                                      func=&lt;function encode_country at 0x7d0c39205000&gt;,\n",
       "                                                                      inverse_func=&lt;function decode_country at 0x7d0c39205120&gt;))]),\n",
       "                                 [&#x27;native-country&#x27;]),\n",
       "                                (&#x27;pipeline-2&#x27;,\n",
       "                                 Pipeline(steps=[(&#x27;simpleimput...\n",
       "                                                  SimpleImputer(fill_value=&#x27;unknown&#x27;,\n",
       "                                                                strategy=&#x27;constant&#x27;)),\n",
       "                                                 (&#x27;ordinalencoder&#x27;,\n",
       "                                                  OrdinalEncoder())]),\n",
       "                                 [&#x27;workclass&#x27;, &#x27;education&#x27;, &#x27;marital-status&#x27;,\n",
       "                                  &#x27;occupation&#x27;, &#x27;relationship&#x27;, &#x27;race&#x27;,\n",
       "                                  &#x27;gender&#x27;]),\n",
       "                                (&#x27;pipeline-3&#x27;,\n",
       "                                 Pipeline(steps=[(&#x27;standardscaler&#x27;,\n",
       "                                                  StandardScaler())]),\n",
       "                                 [&#x27;age&#x27;, &#x27;fnlwgt&#x27;, &#x27;hours-per-week&#x27;]),\n",
       "                                (&#x27;pipeline-4&#x27;,\n",
       "                                 Pipeline(steps=[(&#x27;robustscaler&#x27;,\n",
       "                                                  RobustScaler())]),\n",
       "                                 [&#x27;capital-gain&#x27;, &#x27;capital-loss&#x27;])])</pre></div></div></div><div class=\"sk-parallel\"><div class=\"sk-parallel-item\"><div class=\"sk-item\"><div class=\"sk-label-container\"><div class=\"sk-label sk-toggleable\"><input class=\"sk-toggleable__control sk-hidden--visually\" id=\"sk-estimator-id-2\" type=\"checkbox\" ><label for=\"sk-estimator-id-2\" class=\"sk-toggleable__label sk-toggleable__label-arrow\">pipeline-1</label><div class=\"sk-toggleable__content\"><pre>[&#x27;native-country&#x27;]</pre></div></div></div><div class=\"sk-serial\"><div class=\"sk-item\"><div class=\"sk-serial\"><div class=\"sk-item\"><div class=\"sk-estimator sk-toggleable\"><input class=\"sk-toggleable__control sk-hidden--visually\" id=\"sk-estimator-id-3\" type=\"checkbox\" ><label for=\"sk-estimator-id-3\" class=\"sk-toggleable__label sk-toggleable__label-arrow\">SimpleImputer</label><div class=\"sk-toggleable__content\"><pre>SimpleImputer(strategy=&#x27;most_frequent&#x27;)</pre></div></div></div><div class=\"sk-item\"><div class=\"sk-estimator sk-toggleable\"><input class=\"sk-toggleable__control sk-hidden--visually\" id=\"sk-estimator-id-4\" type=\"checkbox\" ><label for=\"sk-estimator-id-4\" class=\"sk-toggleable__label sk-toggleable__label-arrow\">FunctionTransformer</label><div class=\"sk-toggleable__content\"><pre>FunctionTransformer(check_inverse=False,\n",
       "                    func=&lt;function encode_country at 0x7d0c39205000&gt;,\n",
       "                    inverse_func=&lt;function decode_country at 0x7d0c39205120&gt;)</pre></div></div></div></div></div></div></div></div><div class=\"sk-parallel-item\"><div class=\"sk-item\"><div class=\"sk-label-container\"><div class=\"sk-label sk-toggleable\"><input class=\"sk-toggleable__control sk-hidden--visually\" id=\"sk-estimator-id-5\" type=\"checkbox\" ><label for=\"sk-estimator-id-5\" class=\"sk-toggleable__label sk-toggleable__label-arrow\">pipeline-2</label><div class=\"sk-toggleable__content\"><pre>[&#x27;workclass&#x27;, &#x27;education&#x27;, &#x27;marital-status&#x27;, &#x27;occupation&#x27;, &#x27;relationship&#x27;, &#x27;race&#x27;, &#x27;gender&#x27;]</pre></div></div></div><div class=\"sk-serial\"><div class=\"sk-item\"><div class=\"sk-serial\"><div class=\"sk-item\"><div class=\"sk-estimator sk-toggleable\"><input class=\"sk-toggleable__control sk-hidden--visually\" id=\"sk-estimator-id-6\" type=\"checkbox\" ><label for=\"sk-estimator-id-6\" class=\"sk-toggleable__label sk-toggleable__label-arrow\">SimpleImputer</label><div class=\"sk-toggleable__content\"><pre>SimpleImputer(fill_value=&#x27;unknown&#x27;, strategy=&#x27;constant&#x27;)</pre></div></div></div><div class=\"sk-item\"><div class=\"sk-estimator sk-toggleable\"><input class=\"sk-toggleable__control sk-hidden--visually\" id=\"sk-estimator-id-7\" type=\"checkbox\" ><label for=\"sk-estimator-id-7\" class=\"sk-toggleable__label sk-toggleable__label-arrow\">OrdinalEncoder</label><div class=\"sk-toggleable__content\"><pre>OrdinalEncoder()</pre></div></div></div></div></div></div></div></div><div class=\"sk-parallel-item\"><div class=\"sk-item\"><div class=\"sk-label-container\"><div class=\"sk-label sk-toggleable\"><input class=\"sk-toggleable__control sk-hidden--visually\" id=\"sk-estimator-id-8\" type=\"checkbox\" ><label for=\"sk-estimator-id-8\" class=\"sk-toggleable__label sk-toggleable__label-arrow\">pipeline-3</label><div class=\"sk-toggleable__content\"><pre>[&#x27;age&#x27;, &#x27;fnlwgt&#x27;, &#x27;hours-per-week&#x27;]</pre></div></div></div><div class=\"sk-serial\"><div class=\"sk-item\"><div class=\"sk-serial\"><div class=\"sk-item\"><div class=\"sk-estimator sk-toggleable\"><input class=\"sk-toggleable__control sk-hidden--visually\" id=\"sk-estimator-id-9\" type=\"checkbox\" ><label for=\"sk-estimator-id-9\" class=\"sk-toggleable__label sk-toggleable__label-arrow\">StandardScaler</label><div class=\"sk-toggleable__content\"><pre>StandardScaler()</pre></div></div></div></div></div></div></div></div><div class=\"sk-parallel-item\"><div class=\"sk-item\"><div class=\"sk-label-container\"><div class=\"sk-label sk-toggleable\"><input class=\"sk-toggleable__control sk-hidden--visually\" id=\"sk-estimator-id-10\" type=\"checkbox\" ><label for=\"sk-estimator-id-10\" class=\"sk-toggleable__label sk-toggleable__label-arrow\">pipeline-4</label><div class=\"sk-toggleable__content\"><pre>[&#x27;capital-gain&#x27;, &#x27;capital-loss&#x27;]</pre></div></div></div><div class=\"sk-serial\"><div class=\"sk-item\"><div class=\"sk-serial\"><div class=\"sk-item\"><div class=\"sk-estimator sk-toggleable\"><input class=\"sk-toggleable__control sk-hidden--visually\" id=\"sk-estimator-id-11\" type=\"checkbox\" ><label for=\"sk-estimator-id-11\" class=\"sk-toggleable__label sk-toggleable__label-arrow\">RobustScaler</label><div class=\"sk-toggleable__content\"><pre>RobustScaler()</pre></div></div></div></div></div></div></div></div></div></div></div></div>"
      ],
      "text/plain": [
       "ColumnTransformer(transformers=[('pipeline-1',\n",
       "                                 Pipeline(steps=[('simpleimputer',\n",
       "                                                  SimpleImputer(strategy='most_frequent')),\n",
       "                                                 ('functiontransformer',\n",
       "                                                  FunctionTransformer(check_inverse=False,\n",
       "                                                                      func=<function encode_country at 0x7d0c39205000>,\n",
       "                                                                      inverse_func=<function decode_country at 0x7d0c39205120>))]),\n",
       "                                 ['native-country']),\n",
       "                                ('pipeline-2',\n",
       "                                 Pipeline(steps=[('simpleimput...\n",
       "                                                  SimpleImputer(fill_value='unknown',\n",
       "                                                                strategy='constant')),\n",
       "                                                 ('ordinalencoder',\n",
       "                                                  OrdinalEncoder())]),\n",
       "                                 ['workclass', 'education', 'marital-status',\n",
       "                                  'occupation', 'relationship', 'race',\n",
       "                                  'gender']),\n",
       "                                ('pipeline-3',\n",
       "                                 Pipeline(steps=[('standardscaler',\n",
       "                                                  StandardScaler())]),\n",
       "                                 ['age', 'fnlwgt', 'hours-per-week']),\n",
       "                                ('pipeline-4',\n",
       "                                 Pipeline(steps=[('robustscaler',\n",
       "                                                  RobustScaler())]),\n",
       "                                 ['capital-gain', 'capital-loss'])])"
      ]
     },
     "execution_count": 17,
     "metadata": {},
     "output_type": "execute_result"
    }
   ],
   "source": [
    "preprocessor"
   ]
  },
  {
   "cell_type": "code",
   "execution_count": 18,
   "id": "84ebc0d7",
   "metadata": {
    "execution": {
     "iopub.execute_input": "2024-02-23T14:14:23.272228Z",
     "iopub.status.busy": "2024-02-23T14:14:23.271772Z",
     "iopub.status.idle": "2024-02-23T14:14:23.310823Z",
     "shell.execute_reply": "2024-02-23T14:14:23.309399Z"
    },
    "papermill": {
     "duration": 0.053235,
     "end_time": "2024-02-23T14:14:23.313775",
     "exception": false,
     "start_time": "2024-02-23T14:14:23.260540",
     "status": "completed"
    },
    "tags": []
   },
   "outputs": [],
   "source": [
    "y_encoded = LabelEncoder().fit_transform(y)\n",
    "X_train, X_test, y_train, y_test = train_test_split(X, y_encoded, test_size=0.2, random_state=1)"
   ]
  },
  {
   "cell_type": "code",
   "execution_count": 19,
   "id": "8a8e39a0",
   "metadata": {
    "execution": {
     "iopub.execute_input": "2024-02-23T14:14:23.336165Z",
     "iopub.status.busy": "2024-02-23T14:14:23.335741Z",
     "iopub.status.idle": "2024-02-23T14:14:23.341128Z",
     "shell.execute_reply": "2024-02-23T14:14:23.339901Z"
    },
    "papermill": {
     "duration": 0.020286,
     "end_time": "2024-02-23T14:14:23.344319",
     "exception": false,
     "start_time": "2024-02-23T14:14:23.324033",
     "status": "completed"
    },
    "tags": []
   },
   "outputs": [
    {
     "name": "stdout",
     "output_type": "stream",
     "text": [
      "(39073,) (39073, 13)\n"
     ]
    }
   ],
   "source": [
    "print(y_train.shape, X_train.shape)"
   ]
  },
  {
   "cell_type": "markdown",
   "id": "5c0bc62b",
   "metadata": {
    "papermill": {
     "duration": 0.009384,
     "end_time": "2024-02-23T14:14:23.364136",
     "exception": false,
     "start_time": "2024-02-23T14:14:23.354752",
     "status": "completed"
    },
    "tags": []
   },
   "source": [
    "#### Model"
   ]
  },
  {
   "cell_type": "code",
   "execution_count": 20,
   "id": "4388acde",
   "metadata": {
    "execution": {
     "iopub.execute_input": "2024-02-23T14:14:23.385846Z",
     "iopub.status.busy": "2024-02-23T14:14:23.385385Z",
     "iopub.status.idle": "2024-02-23T14:14:23.391796Z",
     "shell.execute_reply": "2024-02-23T14:14:23.390502Z"
    },
    "papermill": {
     "duration": 0.019797,
     "end_time": "2024-02-23T14:14:23.393847",
     "exception": false,
     "start_time": "2024-02-23T14:14:23.374050",
     "status": "completed"
    },
    "tags": []
   },
   "outputs": [],
   "source": [
    "model_pipeline = make_pipeline(\n",
    "    preprocessor,\n",
    "    KNeighborsClassifier()\n",
    ")\n",
    "\n",
    "param_grid = {\n",
    "    # 'columntransformer__pipeline-1__knnimputer__n_neighbors': [5, 7, 10],\n",
    "    #  'randomforestclassifier__n_estimators': [100, 200, 300],\n",
    "    \"kneighborsclassifier__n_neighbors\": range(1,30)\n",
    "}\n",
    "\n",
    "grid = GridSearchCV(model_pipeline, param_grid, cv=5, error_score='raise')\n"
   ]
  },
  {
   "cell_type": "code",
   "execution_count": 21,
   "id": "d21c4e12",
   "metadata": {
    "execution": {
     "iopub.execute_input": "2024-02-23T14:14:23.415836Z",
     "iopub.status.busy": "2024-02-23T14:14:23.415437Z",
     "iopub.status.idle": "2024-02-23T14:14:23.533410Z",
     "shell.execute_reply": "2024-02-23T14:14:23.532362Z"
    },
    "papermill": {
     "duration": 0.132432,
     "end_time": "2024-02-23T14:14:23.536298",
     "exception": false,
     "start_time": "2024-02-23T14:14:23.403866",
     "status": "completed"
    },
    "tags": []
   },
   "outputs": [
    {
     "data": {
      "text/html": [
       "<style>#sk-container-id-2 {color: black;background-color: white;}#sk-container-id-2 pre{padding: 0;}#sk-container-id-2 div.sk-toggleable {background-color: white;}#sk-container-id-2 label.sk-toggleable__label {cursor: pointer;display: block;width: 100%;margin-bottom: 0;padding: 0.3em;box-sizing: border-box;text-align: center;}#sk-container-id-2 label.sk-toggleable__label-arrow:before {content: \"▸\";float: left;margin-right: 0.25em;color: #696969;}#sk-container-id-2 label.sk-toggleable__label-arrow:hover:before {color: black;}#sk-container-id-2 div.sk-estimator:hover label.sk-toggleable__label-arrow:before {color: black;}#sk-container-id-2 div.sk-toggleable__content {max-height: 0;max-width: 0;overflow: hidden;text-align: left;background-color: #f0f8ff;}#sk-container-id-2 div.sk-toggleable__content pre {margin: 0.2em;color: black;border-radius: 0.25em;background-color: #f0f8ff;}#sk-container-id-2 input.sk-toggleable__control:checked~div.sk-toggleable__content {max-height: 200px;max-width: 100%;overflow: auto;}#sk-container-id-2 input.sk-toggleable__control:checked~label.sk-toggleable__label-arrow:before {content: \"▾\";}#sk-container-id-2 div.sk-estimator input.sk-toggleable__control:checked~label.sk-toggleable__label {background-color: #d4ebff;}#sk-container-id-2 div.sk-label input.sk-toggleable__control:checked~label.sk-toggleable__label {background-color: #d4ebff;}#sk-container-id-2 input.sk-hidden--visually {border: 0;clip: rect(1px 1px 1px 1px);clip: rect(1px, 1px, 1px, 1px);height: 1px;margin: -1px;overflow: hidden;padding: 0;position: absolute;width: 1px;}#sk-container-id-2 div.sk-estimator {font-family: monospace;background-color: #f0f8ff;border: 1px dotted black;border-radius: 0.25em;box-sizing: border-box;margin-bottom: 0.5em;}#sk-container-id-2 div.sk-estimator:hover {background-color: #d4ebff;}#sk-container-id-2 div.sk-parallel-item::after {content: \"\";width: 100%;border-bottom: 1px solid gray;flex-grow: 1;}#sk-container-id-2 div.sk-label:hover label.sk-toggleable__label {background-color: #d4ebff;}#sk-container-id-2 div.sk-serial::before {content: \"\";position: absolute;border-left: 1px solid gray;box-sizing: border-box;top: 0;bottom: 0;left: 50%;z-index: 0;}#sk-container-id-2 div.sk-serial {display: flex;flex-direction: column;align-items: center;background-color: white;padding-right: 0.2em;padding-left: 0.2em;position: relative;}#sk-container-id-2 div.sk-item {position: relative;z-index: 1;}#sk-container-id-2 div.sk-parallel {display: flex;align-items: stretch;justify-content: center;background-color: white;position: relative;}#sk-container-id-2 div.sk-item::before, #sk-container-id-2 div.sk-parallel-item::before {content: \"\";position: absolute;border-left: 1px solid gray;box-sizing: border-box;top: 0;bottom: 0;left: 50%;z-index: -1;}#sk-container-id-2 div.sk-parallel-item {display: flex;flex-direction: column;z-index: 1;position: relative;background-color: white;}#sk-container-id-2 div.sk-parallel-item:first-child::after {align-self: flex-end;width: 50%;}#sk-container-id-2 div.sk-parallel-item:last-child::after {align-self: flex-start;width: 50%;}#sk-container-id-2 div.sk-parallel-item:only-child::after {width: 0;}#sk-container-id-2 div.sk-dashed-wrapped {border: 1px dashed gray;margin: 0 0.4em 0.5em 0.4em;box-sizing: border-box;padding-bottom: 0.4em;background-color: white;}#sk-container-id-2 div.sk-label label {font-family: monospace;font-weight: bold;display: inline-block;line-height: 1.2em;}#sk-container-id-2 div.sk-label-container {text-align: center;}#sk-container-id-2 div.sk-container {/* jupyter's `normalize.less` sets `[hidden] { display: none; }` but bootstrap.min.css set `[hidden] { display: none !important; }` so we also need the `!important` here to be able to override the default hidden behavior on the sphinx rendered scikit-learn.org. See: https://github.com/scikit-learn/scikit-learn/issues/21755 */display: inline-block !important;position: relative;}#sk-container-id-2 div.sk-text-repr-fallback {display: none;}</style><div id=\"sk-container-id-2\" class=\"sk-top-container\"><div class=\"sk-text-repr-fallback\"><pre>Pipeline(steps=[(&#x27;columntransformer&#x27;,\n",
       "                 ColumnTransformer(transformers=[(&#x27;pipeline-1&#x27;,\n",
       "                                                  Pipeline(steps=[(&#x27;simpleimputer&#x27;,\n",
       "                                                                   SimpleImputer(strategy=&#x27;most_frequent&#x27;)),\n",
       "                                                                  (&#x27;functiontransformer&#x27;,\n",
       "                                                                   FunctionTransformer(check_inverse=False,\n",
       "                                                                                       func=&lt;function encode_country at 0x7d0c39205000&gt;,\n",
       "                                                                                       inverse_func=&lt;function decode_country at 0x7d0c39205120&gt;))]),\n",
       "                                                  [&#x27;native-country&#x27;]),\n",
       "                                                 (&#x27;pipe...\n",
       "                                                                   OrdinalEncoder())]),\n",
       "                                                  [&#x27;workclass&#x27;, &#x27;education&#x27;,\n",
       "                                                   &#x27;marital-status&#x27;,\n",
       "                                                   &#x27;occupation&#x27;, &#x27;relationship&#x27;,\n",
       "                                                   &#x27;race&#x27;, &#x27;gender&#x27;]),\n",
       "                                                 (&#x27;pipeline-3&#x27;,\n",
       "                                                  Pipeline(steps=[(&#x27;standardscaler&#x27;,\n",
       "                                                                   StandardScaler())]),\n",
       "                                                  [&#x27;age&#x27;, &#x27;fnlwgt&#x27;,\n",
       "                                                   &#x27;hours-per-week&#x27;]),\n",
       "                                                 (&#x27;pipeline-4&#x27;,\n",
       "                                                  Pipeline(steps=[(&#x27;robustscaler&#x27;,\n",
       "                                                                   RobustScaler())]),\n",
       "                                                  [&#x27;capital-gain&#x27;,\n",
       "                                                   &#x27;capital-loss&#x27;])])),\n",
       "                (&#x27;kneighborsclassifier&#x27;, KNeighborsClassifier())])</pre><b>In a Jupyter environment, please rerun this cell to show the HTML representation or trust the notebook. <br />On GitHub, the HTML representation is unable to render, please try loading this page with nbviewer.org.</b></div><div class=\"sk-container\" hidden><div class=\"sk-item sk-dashed-wrapped\"><div class=\"sk-label-container\"><div class=\"sk-label sk-toggleable\"><input class=\"sk-toggleable__control sk-hidden--visually\" id=\"sk-estimator-id-12\" type=\"checkbox\" ><label for=\"sk-estimator-id-12\" class=\"sk-toggleable__label sk-toggleable__label-arrow\">Pipeline</label><div class=\"sk-toggleable__content\"><pre>Pipeline(steps=[(&#x27;columntransformer&#x27;,\n",
       "                 ColumnTransformer(transformers=[(&#x27;pipeline-1&#x27;,\n",
       "                                                  Pipeline(steps=[(&#x27;simpleimputer&#x27;,\n",
       "                                                                   SimpleImputer(strategy=&#x27;most_frequent&#x27;)),\n",
       "                                                                  (&#x27;functiontransformer&#x27;,\n",
       "                                                                   FunctionTransformer(check_inverse=False,\n",
       "                                                                                       func=&lt;function encode_country at 0x7d0c39205000&gt;,\n",
       "                                                                                       inverse_func=&lt;function decode_country at 0x7d0c39205120&gt;))]),\n",
       "                                                  [&#x27;native-country&#x27;]),\n",
       "                                                 (&#x27;pipe...\n",
       "                                                                   OrdinalEncoder())]),\n",
       "                                                  [&#x27;workclass&#x27;, &#x27;education&#x27;,\n",
       "                                                   &#x27;marital-status&#x27;,\n",
       "                                                   &#x27;occupation&#x27;, &#x27;relationship&#x27;,\n",
       "                                                   &#x27;race&#x27;, &#x27;gender&#x27;]),\n",
       "                                                 (&#x27;pipeline-3&#x27;,\n",
       "                                                  Pipeline(steps=[(&#x27;standardscaler&#x27;,\n",
       "                                                                   StandardScaler())]),\n",
       "                                                  [&#x27;age&#x27;, &#x27;fnlwgt&#x27;,\n",
       "                                                   &#x27;hours-per-week&#x27;]),\n",
       "                                                 (&#x27;pipeline-4&#x27;,\n",
       "                                                  Pipeline(steps=[(&#x27;robustscaler&#x27;,\n",
       "                                                                   RobustScaler())]),\n",
       "                                                  [&#x27;capital-gain&#x27;,\n",
       "                                                   &#x27;capital-loss&#x27;])])),\n",
       "                (&#x27;kneighborsclassifier&#x27;, KNeighborsClassifier())])</pre></div></div></div><div class=\"sk-serial\"><div class=\"sk-item sk-dashed-wrapped\"><div class=\"sk-label-container\"><div class=\"sk-label sk-toggleable\"><input class=\"sk-toggleable__control sk-hidden--visually\" id=\"sk-estimator-id-13\" type=\"checkbox\" ><label for=\"sk-estimator-id-13\" class=\"sk-toggleable__label sk-toggleable__label-arrow\">columntransformer: ColumnTransformer</label><div class=\"sk-toggleable__content\"><pre>ColumnTransformer(transformers=[(&#x27;pipeline-1&#x27;,\n",
       "                                 Pipeline(steps=[(&#x27;simpleimputer&#x27;,\n",
       "                                                  SimpleImputer(strategy=&#x27;most_frequent&#x27;)),\n",
       "                                                 (&#x27;functiontransformer&#x27;,\n",
       "                                                  FunctionTransformer(check_inverse=False,\n",
       "                                                                      func=&lt;function encode_country at 0x7d0c39205000&gt;,\n",
       "                                                                      inverse_func=&lt;function decode_country at 0x7d0c39205120&gt;))]),\n",
       "                                 [&#x27;native-country&#x27;]),\n",
       "                                (&#x27;pipeline-2&#x27;,\n",
       "                                 Pipeline(steps=[(&#x27;simpleimput...\n",
       "                                                  SimpleImputer(fill_value=&#x27;unknown&#x27;,\n",
       "                                                                strategy=&#x27;constant&#x27;)),\n",
       "                                                 (&#x27;ordinalencoder&#x27;,\n",
       "                                                  OrdinalEncoder())]),\n",
       "                                 [&#x27;workclass&#x27;, &#x27;education&#x27;, &#x27;marital-status&#x27;,\n",
       "                                  &#x27;occupation&#x27;, &#x27;relationship&#x27;, &#x27;race&#x27;,\n",
       "                                  &#x27;gender&#x27;]),\n",
       "                                (&#x27;pipeline-3&#x27;,\n",
       "                                 Pipeline(steps=[(&#x27;standardscaler&#x27;,\n",
       "                                                  StandardScaler())]),\n",
       "                                 [&#x27;age&#x27;, &#x27;fnlwgt&#x27;, &#x27;hours-per-week&#x27;]),\n",
       "                                (&#x27;pipeline-4&#x27;,\n",
       "                                 Pipeline(steps=[(&#x27;robustscaler&#x27;,\n",
       "                                                  RobustScaler())]),\n",
       "                                 [&#x27;capital-gain&#x27;, &#x27;capital-loss&#x27;])])</pre></div></div></div><div class=\"sk-parallel\"><div class=\"sk-parallel-item\"><div class=\"sk-item\"><div class=\"sk-label-container\"><div class=\"sk-label sk-toggleable\"><input class=\"sk-toggleable__control sk-hidden--visually\" id=\"sk-estimator-id-14\" type=\"checkbox\" ><label for=\"sk-estimator-id-14\" class=\"sk-toggleable__label sk-toggleable__label-arrow\">pipeline-1</label><div class=\"sk-toggleable__content\"><pre>[&#x27;native-country&#x27;]</pre></div></div></div><div class=\"sk-serial\"><div class=\"sk-item\"><div class=\"sk-serial\"><div class=\"sk-item\"><div class=\"sk-estimator sk-toggleable\"><input class=\"sk-toggleable__control sk-hidden--visually\" id=\"sk-estimator-id-15\" type=\"checkbox\" ><label for=\"sk-estimator-id-15\" class=\"sk-toggleable__label sk-toggleable__label-arrow\">SimpleImputer</label><div class=\"sk-toggleable__content\"><pre>SimpleImputer(strategy=&#x27;most_frequent&#x27;)</pre></div></div></div><div class=\"sk-item\"><div class=\"sk-estimator sk-toggleable\"><input class=\"sk-toggleable__control sk-hidden--visually\" id=\"sk-estimator-id-16\" type=\"checkbox\" ><label for=\"sk-estimator-id-16\" class=\"sk-toggleable__label sk-toggleable__label-arrow\">FunctionTransformer</label><div class=\"sk-toggleable__content\"><pre>FunctionTransformer(check_inverse=False,\n",
       "                    func=&lt;function encode_country at 0x7d0c39205000&gt;,\n",
       "                    inverse_func=&lt;function decode_country at 0x7d0c39205120&gt;)</pre></div></div></div></div></div></div></div></div><div class=\"sk-parallel-item\"><div class=\"sk-item\"><div class=\"sk-label-container\"><div class=\"sk-label sk-toggleable\"><input class=\"sk-toggleable__control sk-hidden--visually\" id=\"sk-estimator-id-17\" type=\"checkbox\" ><label for=\"sk-estimator-id-17\" class=\"sk-toggleable__label sk-toggleable__label-arrow\">pipeline-2</label><div class=\"sk-toggleable__content\"><pre>[&#x27;workclass&#x27;, &#x27;education&#x27;, &#x27;marital-status&#x27;, &#x27;occupation&#x27;, &#x27;relationship&#x27;, &#x27;race&#x27;, &#x27;gender&#x27;]</pre></div></div></div><div class=\"sk-serial\"><div class=\"sk-item\"><div class=\"sk-serial\"><div class=\"sk-item\"><div class=\"sk-estimator sk-toggleable\"><input class=\"sk-toggleable__control sk-hidden--visually\" id=\"sk-estimator-id-18\" type=\"checkbox\" ><label for=\"sk-estimator-id-18\" class=\"sk-toggleable__label sk-toggleable__label-arrow\">SimpleImputer</label><div class=\"sk-toggleable__content\"><pre>SimpleImputer(fill_value=&#x27;unknown&#x27;, strategy=&#x27;constant&#x27;)</pre></div></div></div><div class=\"sk-item\"><div class=\"sk-estimator sk-toggleable\"><input class=\"sk-toggleable__control sk-hidden--visually\" id=\"sk-estimator-id-19\" type=\"checkbox\" ><label for=\"sk-estimator-id-19\" class=\"sk-toggleable__label sk-toggleable__label-arrow\">OrdinalEncoder</label><div class=\"sk-toggleable__content\"><pre>OrdinalEncoder()</pre></div></div></div></div></div></div></div></div><div class=\"sk-parallel-item\"><div class=\"sk-item\"><div class=\"sk-label-container\"><div class=\"sk-label sk-toggleable\"><input class=\"sk-toggleable__control sk-hidden--visually\" id=\"sk-estimator-id-20\" type=\"checkbox\" ><label for=\"sk-estimator-id-20\" class=\"sk-toggleable__label sk-toggleable__label-arrow\">pipeline-3</label><div class=\"sk-toggleable__content\"><pre>[&#x27;age&#x27;, &#x27;fnlwgt&#x27;, &#x27;hours-per-week&#x27;]</pre></div></div></div><div class=\"sk-serial\"><div class=\"sk-item\"><div class=\"sk-serial\"><div class=\"sk-item\"><div class=\"sk-estimator sk-toggleable\"><input class=\"sk-toggleable__control sk-hidden--visually\" id=\"sk-estimator-id-21\" type=\"checkbox\" ><label for=\"sk-estimator-id-21\" class=\"sk-toggleable__label sk-toggleable__label-arrow\">StandardScaler</label><div class=\"sk-toggleable__content\"><pre>StandardScaler()</pre></div></div></div></div></div></div></div></div><div class=\"sk-parallel-item\"><div class=\"sk-item\"><div class=\"sk-label-container\"><div class=\"sk-label sk-toggleable\"><input class=\"sk-toggleable__control sk-hidden--visually\" id=\"sk-estimator-id-22\" type=\"checkbox\" ><label for=\"sk-estimator-id-22\" class=\"sk-toggleable__label sk-toggleable__label-arrow\">pipeline-4</label><div class=\"sk-toggleable__content\"><pre>[&#x27;capital-gain&#x27;, &#x27;capital-loss&#x27;]</pre></div></div></div><div class=\"sk-serial\"><div class=\"sk-item\"><div class=\"sk-serial\"><div class=\"sk-item\"><div class=\"sk-estimator sk-toggleable\"><input class=\"sk-toggleable__control sk-hidden--visually\" id=\"sk-estimator-id-23\" type=\"checkbox\" ><label for=\"sk-estimator-id-23\" class=\"sk-toggleable__label sk-toggleable__label-arrow\">RobustScaler</label><div class=\"sk-toggleable__content\"><pre>RobustScaler()</pre></div></div></div></div></div></div></div></div></div></div><div class=\"sk-item\"><div class=\"sk-estimator sk-toggleable\"><input class=\"sk-toggleable__control sk-hidden--visually\" id=\"sk-estimator-id-24\" type=\"checkbox\" ><label for=\"sk-estimator-id-24\" class=\"sk-toggleable__label sk-toggleable__label-arrow\">KNeighborsClassifier</label><div class=\"sk-toggleable__content\"><pre>KNeighborsClassifier()</pre></div></div></div></div></div></div></div>"
      ],
      "text/plain": [
       "Pipeline(steps=[('columntransformer',\n",
       "                 ColumnTransformer(transformers=[('pipeline-1',\n",
       "                                                  Pipeline(steps=[('simpleimputer',\n",
       "                                                                   SimpleImputer(strategy='most_frequent')),\n",
       "                                                                  ('functiontransformer',\n",
       "                                                                   FunctionTransformer(check_inverse=False,\n",
       "                                                                                       func=<function encode_country at 0x7d0c39205000>,\n",
       "                                                                                       inverse_func=<function decode_country at 0x7d0c39205120>))]),\n",
       "                                                  ['native-country']),\n",
       "                                                 ('pipe...\n",
       "                                                                   OrdinalEncoder())]),\n",
       "                                                  ['workclass', 'education',\n",
       "                                                   'marital-status',\n",
       "                                                   'occupation', 'relationship',\n",
       "                                                   'race', 'gender']),\n",
       "                                                 ('pipeline-3',\n",
       "                                                  Pipeline(steps=[('standardscaler',\n",
       "                                                                   StandardScaler())]),\n",
       "                                                  ['age', 'fnlwgt',\n",
       "                                                   'hours-per-week']),\n",
       "                                                 ('pipeline-4',\n",
       "                                                  Pipeline(steps=[('robustscaler',\n",
       "                                                                   RobustScaler())]),\n",
       "                                                  ['capital-gain',\n",
       "                                                   'capital-loss'])])),\n",
       "                ('kneighborsclassifier', KNeighborsClassifier())])"
      ]
     },
     "execution_count": 21,
     "metadata": {},
     "output_type": "execute_result"
    }
   ],
   "source": [
    "model_pipeline"
   ]
  },
  {
   "cell_type": "code",
   "execution_count": 22,
   "id": "8148d32c",
   "metadata": {
    "execution": {
     "iopub.execute_input": "2024-02-23T14:14:23.559730Z",
     "iopub.status.busy": "2024-02-23T14:14:23.558887Z",
     "iopub.status.idle": "2024-02-23T14:21:35.744010Z",
     "shell.execute_reply": "2024-02-23T14:21:35.742546Z"
    },
    "papermill": {
     "duration": 432.212253,
     "end_time": "2024-02-23T14:21:35.759153",
     "exception": false,
     "start_time": "2024-02-23T14:14:23.546900",
     "status": "completed"
    },
    "tags": []
   },
   "outputs": [
    {
     "data": {
      "text/html": [
       "<style>#sk-container-id-3 {color: black;background-color: white;}#sk-container-id-3 pre{padding: 0;}#sk-container-id-3 div.sk-toggleable {background-color: white;}#sk-container-id-3 label.sk-toggleable__label {cursor: pointer;display: block;width: 100%;margin-bottom: 0;padding: 0.3em;box-sizing: border-box;text-align: center;}#sk-container-id-3 label.sk-toggleable__label-arrow:before {content: \"▸\";float: left;margin-right: 0.25em;color: #696969;}#sk-container-id-3 label.sk-toggleable__label-arrow:hover:before {color: black;}#sk-container-id-3 div.sk-estimator:hover label.sk-toggleable__label-arrow:before {color: black;}#sk-container-id-3 div.sk-toggleable__content {max-height: 0;max-width: 0;overflow: hidden;text-align: left;background-color: #f0f8ff;}#sk-container-id-3 div.sk-toggleable__content pre {margin: 0.2em;color: black;border-radius: 0.25em;background-color: #f0f8ff;}#sk-container-id-3 input.sk-toggleable__control:checked~div.sk-toggleable__content {max-height: 200px;max-width: 100%;overflow: auto;}#sk-container-id-3 input.sk-toggleable__control:checked~label.sk-toggleable__label-arrow:before {content: \"▾\";}#sk-container-id-3 div.sk-estimator input.sk-toggleable__control:checked~label.sk-toggleable__label {background-color: #d4ebff;}#sk-container-id-3 div.sk-label input.sk-toggleable__control:checked~label.sk-toggleable__label {background-color: #d4ebff;}#sk-container-id-3 input.sk-hidden--visually {border: 0;clip: rect(1px 1px 1px 1px);clip: rect(1px, 1px, 1px, 1px);height: 1px;margin: -1px;overflow: hidden;padding: 0;position: absolute;width: 1px;}#sk-container-id-3 div.sk-estimator {font-family: monospace;background-color: #f0f8ff;border: 1px dotted black;border-radius: 0.25em;box-sizing: border-box;margin-bottom: 0.5em;}#sk-container-id-3 div.sk-estimator:hover {background-color: #d4ebff;}#sk-container-id-3 div.sk-parallel-item::after {content: \"\";width: 100%;border-bottom: 1px solid gray;flex-grow: 1;}#sk-container-id-3 div.sk-label:hover label.sk-toggleable__label {background-color: #d4ebff;}#sk-container-id-3 div.sk-serial::before {content: \"\";position: absolute;border-left: 1px solid gray;box-sizing: border-box;top: 0;bottom: 0;left: 50%;z-index: 0;}#sk-container-id-3 div.sk-serial {display: flex;flex-direction: column;align-items: center;background-color: white;padding-right: 0.2em;padding-left: 0.2em;position: relative;}#sk-container-id-3 div.sk-item {position: relative;z-index: 1;}#sk-container-id-3 div.sk-parallel {display: flex;align-items: stretch;justify-content: center;background-color: white;position: relative;}#sk-container-id-3 div.sk-item::before, #sk-container-id-3 div.sk-parallel-item::before {content: \"\";position: absolute;border-left: 1px solid gray;box-sizing: border-box;top: 0;bottom: 0;left: 50%;z-index: -1;}#sk-container-id-3 div.sk-parallel-item {display: flex;flex-direction: column;z-index: 1;position: relative;background-color: white;}#sk-container-id-3 div.sk-parallel-item:first-child::after {align-self: flex-end;width: 50%;}#sk-container-id-3 div.sk-parallel-item:last-child::after {align-self: flex-start;width: 50%;}#sk-container-id-3 div.sk-parallel-item:only-child::after {width: 0;}#sk-container-id-3 div.sk-dashed-wrapped {border: 1px dashed gray;margin: 0 0.4em 0.5em 0.4em;box-sizing: border-box;padding-bottom: 0.4em;background-color: white;}#sk-container-id-3 div.sk-label label {font-family: monospace;font-weight: bold;display: inline-block;line-height: 1.2em;}#sk-container-id-3 div.sk-label-container {text-align: center;}#sk-container-id-3 div.sk-container {/* jupyter's `normalize.less` sets `[hidden] { display: none; }` but bootstrap.min.css set `[hidden] { display: none !important; }` so we also need the `!important` here to be able to override the default hidden behavior on the sphinx rendered scikit-learn.org. See: https://github.com/scikit-learn/scikit-learn/issues/21755 */display: inline-block !important;position: relative;}#sk-container-id-3 div.sk-text-repr-fallback {display: none;}</style><div id=\"sk-container-id-3\" class=\"sk-top-container\"><div class=\"sk-text-repr-fallback\"><pre>GridSearchCV(cv=5, error_score=&#x27;raise&#x27;,\n",
       "             estimator=Pipeline(steps=[(&#x27;columntransformer&#x27;,\n",
       "                                        ColumnTransformer(transformers=[(&#x27;pipeline-1&#x27;,\n",
       "                                                                         Pipeline(steps=[(&#x27;simpleimputer&#x27;,\n",
       "                                                                                          SimpleImputer(strategy=&#x27;most_frequent&#x27;)),\n",
       "                                                                                         (&#x27;functiontransformer&#x27;,\n",
       "                                                                                          FunctionTransformer(check_inverse=False,\n",
       "                                                                                                              func=&lt;function encode_country at 0x7d0c39205000&gt;,\n",
       "                                                                                                              inverse_func=&lt;function decode_country...\n",
       "                                                                          &#x27;occupation&#x27;,\n",
       "                                                                          &#x27;relationship&#x27;,\n",
       "                                                                          &#x27;race&#x27;,\n",
       "                                                                          &#x27;gender&#x27;]),\n",
       "                                                                        (&#x27;pipeline-3&#x27;,\n",
       "                                                                         Pipeline(steps=[(&#x27;standardscaler&#x27;,\n",
       "                                                                                          StandardScaler())]),\n",
       "                                                                         [&#x27;age&#x27;,\n",
       "                                                                          &#x27;fnlwgt&#x27;,\n",
       "                                                                          &#x27;hours-per-week&#x27;]),\n",
       "                                                                        (&#x27;pipeline-4&#x27;,\n",
       "                                                                         Pipeline(steps=[(&#x27;robustscaler&#x27;,\n",
       "                                                                                          RobustScaler())]),\n",
       "                                                                         [&#x27;capital-gain&#x27;,\n",
       "                                                                          &#x27;capital-loss&#x27;])])),\n",
       "                                       (&#x27;kneighborsclassifier&#x27;,\n",
       "                                        KNeighborsClassifier())]),\n",
       "             param_grid={&#x27;kneighborsclassifier__n_neighbors&#x27;: range(1, 30)})</pre><b>In a Jupyter environment, please rerun this cell to show the HTML representation or trust the notebook. <br />On GitHub, the HTML representation is unable to render, please try loading this page with nbviewer.org.</b></div><div class=\"sk-container\" hidden><div class=\"sk-item sk-dashed-wrapped\"><div class=\"sk-label-container\"><div class=\"sk-label sk-toggleable\"><input class=\"sk-toggleable__control sk-hidden--visually\" id=\"sk-estimator-id-25\" type=\"checkbox\" ><label for=\"sk-estimator-id-25\" class=\"sk-toggleable__label sk-toggleable__label-arrow\">GridSearchCV</label><div class=\"sk-toggleable__content\"><pre>GridSearchCV(cv=5, error_score=&#x27;raise&#x27;,\n",
       "             estimator=Pipeline(steps=[(&#x27;columntransformer&#x27;,\n",
       "                                        ColumnTransformer(transformers=[(&#x27;pipeline-1&#x27;,\n",
       "                                                                         Pipeline(steps=[(&#x27;simpleimputer&#x27;,\n",
       "                                                                                          SimpleImputer(strategy=&#x27;most_frequent&#x27;)),\n",
       "                                                                                         (&#x27;functiontransformer&#x27;,\n",
       "                                                                                          FunctionTransformer(check_inverse=False,\n",
       "                                                                                                              func=&lt;function encode_country at 0x7d0c39205000&gt;,\n",
       "                                                                                                              inverse_func=&lt;function decode_country...\n",
       "                                                                          &#x27;occupation&#x27;,\n",
       "                                                                          &#x27;relationship&#x27;,\n",
       "                                                                          &#x27;race&#x27;,\n",
       "                                                                          &#x27;gender&#x27;]),\n",
       "                                                                        (&#x27;pipeline-3&#x27;,\n",
       "                                                                         Pipeline(steps=[(&#x27;standardscaler&#x27;,\n",
       "                                                                                          StandardScaler())]),\n",
       "                                                                         [&#x27;age&#x27;,\n",
       "                                                                          &#x27;fnlwgt&#x27;,\n",
       "                                                                          &#x27;hours-per-week&#x27;]),\n",
       "                                                                        (&#x27;pipeline-4&#x27;,\n",
       "                                                                         Pipeline(steps=[(&#x27;robustscaler&#x27;,\n",
       "                                                                                          RobustScaler())]),\n",
       "                                                                         [&#x27;capital-gain&#x27;,\n",
       "                                                                          &#x27;capital-loss&#x27;])])),\n",
       "                                       (&#x27;kneighborsclassifier&#x27;,\n",
       "                                        KNeighborsClassifier())]),\n",
       "             param_grid={&#x27;kneighborsclassifier__n_neighbors&#x27;: range(1, 30)})</pre></div></div></div><div class=\"sk-parallel\"><div class=\"sk-parallel-item\"><div class=\"sk-item\"><div class=\"sk-label-container\"><div class=\"sk-label sk-toggleable\"><input class=\"sk-toggleable__control sk-hidden--visually\" id=\"sk-estimator-id-26\" type=\"checkbox\" ><label for=\"sk-estimator-id-26\" class=\"sk-toggleable__label sk-toggleable__label-arrow\">estimator: Pipeline</label><div class=\"sk-toggleable__content\"><pre>Pipeline(steps=[(&#x27;columntransformer&#x27;,\n",
       "                 ColumnTransformer(transformers=[(&#x27;pipeline-1&#x27;,\n",
       "                                                  Pipeline(steps=[(&#x27;simpleimputer&#x27;,\n",
       "                                                                   SimpleImputer(strategy=&#x27;most_frequent&#x27;)),\n",
       "                                                                  (&#x27;functiontransformer&#x27;,\n",
       "                                                                   FunctionTransformer(check_inverse=False,\n",
       "                                                                                       func=&lt;function encode_country at 0x7d0c39205000&gt;,\n",
       "                                                                                       inverse_func=&lt;function decode_country at 0x7d0c39205120&gt;))]),\n",
       "                                                  [&#x27;native-country&#x27;]),\n",
       "                                                 (&#x27;pipe...\n",
       "                                                                   OrdinalEncoder())]),\n",
       "                                                  [&#x27;workclass&#x27;, &#x27;education&#x27;,\n",
       "                                                   &#x27;marital-status&#x27;,\n",
       "                                                   &#x27;occupation&#x27;, &#x27;relationship&#x27;,\n",
       "                                                   &#x27;race&#x27;, &#x27;gender&#x27;]),\n",
       "                                                 (&#x27;pipeline-3&#x27;,\n",
       "                                                  Pipeline(steps=[(&#x27;standardscaler&#x27;,\n",
       "                                                                   StandardScaler())]),\n",
       "                                                  [&#x27;age&#x27;, &#x27;fnlwgt&#x27;,\n",
       "                                                   &#x27;hours-per-week&#x27;]),\n",
       "                                                 (&#x27;pipeline-4&#x27;,\n",
       "                                                  Pipeline(steps=[(&#x27;robustscaler&#x27;,\n",
       "                                                                   RobustScaler())]),\n",
       "                                                  [&#x27;capital-gain&#x27;,\n",
       "                                                   &#x27;capital-loss&#x27;])])),\n",
       "                (&#x27;kneighborsclassifier&#x27;, KNeighborsClassifier())])</pre></div></div></div><div class=\"sk-serial\"><div class=\"sk-item\"><div class=\"sk-serial\"><div class=\"sk-item sk-dashed-wrapped\"><div class=\"sk-label-container\"><div class=\"sk-label sk-toggleable\"><input class=\"sk-toggleable__control sk-hidden--visually\" id=\"sk-estimator-id-27\" type=\"checkbox\" ><label for=\"sk-estimator-id-27\" class=\"sk-toggleable__label sk-toggleable__label-arrow\">columntransformer: ColumnTransformer</label><div class=\"sk-toggleable__content\"><pre>ColumnTransformer(transformers=[(&#x27;pipeline-1&#x27;,\n",
       "                                 Pipeline(steps=[(&#x27;simpleimputer&#x27;,\n",
       "                                                  SimpleImputer(strategy=&#x27;most_frequent&#x27;)),\n",
       "                                                 (&#x27;functiontransformer&#x27;,\n",
       "                                                  FunctionTransformer(check_inverse=False,\n",
       "                                                                      func=&lt;function encode_country at 0x7d0c39205000&gt;,\n",
       "                                                                      inverse_func=&lt;function decode_country at 0x7d0c39205120&gt;))]),\n",
       "                                 [&#x27;native-country&#x27;]),\n",
       "                                (&#x27;pipeline-2&#x27;,\n",
       "                                 Pipeline(steps=[(&#x27;simpleimput...\n",
       "                                                  SimpleImputer(fill_value=&#x27;unknown&#x27;,\n",
       "                                                                strategy=&#x27;constant&#x27;)),\n",
       "                                                 (&#x27;ordinalencoder&#x27;,\n",
       "                                                  OrdinalEncoder())]),\n",
       "                                 [&#x27;workclass&#x27;, &#x27;education&#x27;, &#x27;marital-status&#x27;,\n",
       "                                  &#x27;occupation&#x27;, &#x27;relationship&#x27;, &#x27;race&#x27;,\n",
       "                                  &#x27;gender&#x27;]),\n",
       "                                (&#x27;pipeline-3&#x27;,\n",
       "                                 Pipeline(steps=[(&#x27;standardscaler&#x27;,\n",
       "                                                  StandardScaler())]),\n",
       "                                 [&#x27;age&#x27;, &#x27;fnlwgt&#x27;, &#x27;hours-per-week&#x27;]),\n",
       "                                (&#x27;pipeline-4&#x27;,\n",
       "                                 Pipeline(steps=[(&#x27;robustscaler&#x27;,\n",
       "                                                  RobustScaler())]),\n",
       "                                 [&#x27;capital-gain&#x27;, &#x27;capital-loss&#x27;])])</pre></div></div></div><div class=\"sk-parallel\"><div class=\"sk-parallel-item\"><div class=\"sk-item\"><div class=\"sk-label-container\"><div class=\"sk-label sk-toggleable\"><input class=\"sk-toggleable__control sk-hidden--visually\" id=\"sk-estimator-id-28\" type=\"checkbox\" ><label for=\"sk-estimator-id-28\" class=\"sk-toggleable__label sk-toggleable__label-arrow\">pipeline-1</label><div class=\"sk-toggleable__content\"><pre>[&#x27;native-country&#x27;]</pre></div></div></div><div class=\"sk-serial\"><div class=\"sk-item\"><div class=\"sk-serial\"><div class=\"sk-item\"><div class=\"sk-estimator sk-toggleable\"><input class=\"sk-toggleable__control sk-hidden--visually\" id=\"sk-estimator-id-29\" type=\"checkbox\" ><label for=\"sk-estimator-id-29\" class=\"sk-toggleable__label sk-toggleable__label-arrow\">SimpleImputer</label><div class=\"sk-toggleable__content\"><pre>SimpleImputer(strategy=&#x27;most_frequent&#x27;)</pre></div></div></div><div class=\"sk-item\"><div class=\"sk-estimator sk-toggleable\"><input class=\"sk-toggleable__control sk-hidden--visually\" id=\"sk-estimator-id-30\" type=\"checkbox\" ><label for=\"sk-estimator-id-30\" class=\"sk-toggleable__label sk-toggleable__label-arrow\">FunctionTransformer</label><div class=\"sk-toggleable__content\"><pre>FunctionTransformer(check_inverse=False,\n",
       "                    func=&lt;function encode_country at 0x7d0c39205000&gt;,\n",
       "                    inverse_func=&lt;function decode_country at 0x7d0c39205120&gt;)</pre></div></div></div></div></div></div></div></div><div class=\"sk-parallel-item\"><div class=\"sk-item\"><div class=\"sk-label-container\"><div class=\"sk-label sk-toggleable\"><input class=\"sk-toggleable__control sk-hidden--visually\" id=\"sk-estimator-id-31\" type=\"checkbox\" ><label for=\"sk-estimator-id-31\" class=\"sk-toggleable__label sk-toggleable__label-arrow\">pipeline-2</label><div class=\"sk-toggleable__content\"><pre>[&#x27;workclass&#x27;, &#x27;education&#x27;, &#x27;marital-status&#x27;, &#x27;occupation&#x27;, &#x27;relationship&#x27;, &#x27;race&#x27;, &#x27;gender&#x27;]</pre></div></div></div><div class=\"sk-serial\"><div class=\"sk-item\"><div class=\"sk-serial\"><div class=\"sk-item\"><div class=\"sk-estimator sk-toggleable\"><input class=\"sk-toggleable__control sk-hidden--visually\" id=\"sk-estimator-id-32\" type=\"checkbox\" ><label for=\"sk-estimator-id-32\" class=\"sk-toggleable__label sk-toggleable__label-arrow\">SimpleImputer</label><div class=\"sk-toggleable__content\"><pre>SimpleImputer(fill_value=&#x27;unknown&#x27;, strategy=&#x27;constant&#x27;)</pre></div></div></div><div class=\"sk-item\"><div class=\"sk-estimator sk-toggleable\"><input class=\"sk-toggleable__control sk-hidden--visually\" id=\"sk-estimator-id-33\" type=\"checkbox\" ><label for=\"sk-estimator-id-33\" class=\"sk-toggleable__label sk-toggleable__label-arrow\">OrdinalEncoder</label><div class=\"sk-toggleable__content\"><pre>OrdinalEncoder()</pre></div></div></div></div></div></div></div></div><div class=\"sk-parallel-item\"><div class=\"sk-item\"><div class=\"sk-label-container\"><div class=\"sk-label sk-toggleable\"><input class=\"sk-toggleable__control sk-hidden--visually\" id=\"sk-estimator-id-34\" type=\"checkbox\" ><label for=\"sk-estimator-id-34\" class=\"sk-toggleable__label sk-toggleable__label-arrow\">pipeline-3</label><div class=\"sk-toggleable__content\"><pre>[&#x27;age&#x27;, &#x27;fnlwgt&#x27;, &#x27;hours-per-week&#x27;]</pre></div></div></div><div class=\"sk-serial\"><div class=\"sk-item\"><div class=\"sk-serial\"><div class=\"sk-item\"><div class=\"sk-estimator sk-toggleable\"><input class=\"sk-toggleable__control sk-hidden--visually\" id=\"sk-estimator-id-35\" type=\"checkbox\" ><label for=\"sk-estimator-id-35\" class=\"sk-toggleable__label sk-toggleable__label-arrow\">StandardScaler</label><div class=\"sk-toggleable__content\"><pre>StandardScaler()</pre></div></div></div></div></div></div></div></div><div class=\"sk-parallel-item\"><div class=\"sk-item\"><div class=\"sk-label-container\"><div class=\"sk-label sk-toggleable\"><input class=\"sk-toggleable__control sk-hidden--visually\" id=\"sk-estimator-id-36\" type=\"checkbox\" ><label for=\"sk-estimator-id-36\" class=\"sk-toggleable__label sk-toggleable__label-arrow\">pipeline-4</label><div class=\"sk-toggleable__content\"><pre>[&#x27;capital-gain&#x27;, &#x27;capital-loss&#x27;]</pre></div></div></div><div class=\"sk-serial\"><div class=\"sk-item\"><div class=\"sk-serial\"><div class=\"sk-item\"><div class=\"sk-estimator sk-toggleable\"><input class=\"sk-toggleable__control sk-hidden--visually\" id=\"sk-estimator-id-37\" type=\"checkbox\" ><label for=\"sk-estimator-id-37\" class=\"sk-toggleable__label sk-toggleable__label-arrow\">RobustScaler</label><div class=\"sk-toggleable__content\"><pre>RobustScaler()</pre></div></div></div></div></div></div></div></div></div></div><div class=\"sk-item\"><div class=\"sk-estimator sk-toggleable\"><input class=\"sk-toggleable__control sk-hidden--visually\" id=\"sk-estimator-id-38\" type=\"checkbox\" ><label for=\"sk-estimator-id-38\" class=\"sk-toggleable__label sk-toggleable__label-arrow\">KNeighborsClassifier</label><div class=\"sk-toggleable__content\"><pre>KNeighborsClassifier()</pre></div></div></div></div></div></div></div></div></div></div></div></div>"
      ],
      "text/plain": [
       "GridSearchCV(cv=5, error_score='raise',\n",
       "             estimator=Pipeline(steps=[('columntransformer',\n",
       "                                        ColumnTransformer(transformers=[('pipeline-1',\n",
       "                                                                         Pipeline(steps=[('simpleimputer',\n",
       "                                                                                          SimpleImputer(strategy='most_frequent')),\n",
       "                                                                                         ('functiontransformer',\n",
       "                                                                                          FunctionTransformer(check_inverse=False,\n",
       "                                                                                                              func=<function encode_country at 0x7d0c39205000>,\n",
       "                                                                                                              inverse_func=<function decode_country...\n",
       "                                                                          'occupation',\n",
       "                                                                          'relationship',\n",
       "                                                                          'race',\n",
       "                                                                          'gender']),\n",
       "                                                                        ('pipeline-3',\n",
       "                                                                         Pipeline(steps=[('standardscaler',\n",
       "                                                                                          StandardScaler())]),\n",
       "                                                                         ['age',\n",
       "                                                                          'fnlwgt',\n",
       "                                                                          'hours-per-week']),\n",
       "                                                                        ('pipeline-4',\n",
       "                                                                         Pipeline(steps=[('robustscaler',\n",
       "                                                                                          RobustScaler())]),\n",
       "                                                                         ['capital-gain',\n",
       "                                                                          'capital-loss'])])),\n",
       "                                       ('kneighborsclassifier',\n",
       "                                        KNeighborsClassifier())]),\n",
       "             param_grid={'kneighborsclassifier__n_neighbors': range(1, 30)})"
      ]
     },
     "execution_count": 22,
     "metadata": {},
     "output_type": "execute_result"
    }
   ],
   "source": [
    "grid.fit(X_train, y_train)"
   ]
  },
  {
   "cell_type": "code",
   "execution_count": 23,
   "id": "c9659009",
   "metadata": {
    "execution": {
     "iopub.execute_input": "2024-02-23T14:21:35.784159Z",
     "iopub.status.busy": "2024-02-23T14:21:35.783740Z",
     "iopub.status.idle": "2024-02-23T14:21:35.791508Z",
     "shell.execute_reply": "2024-02-23T14:21:35.790094Z"
    },
    "papermill": {
     "duration": 0.023196,
     "end_time": "2024-02-23T14:21:35.794061",
     "exception": false,
     "start_time": "2024-02-23T14:21:35.770865",
     "status": "completed"
    },
    "tags": []
   },
   "outputs": [
    {
     "data": {
      "text/plain": [
       "{'kneighborsclassifier__n_neighbors': 28}"
      ]
     },
     "execution_count": 23,
     "metadata": {},
     "output_type": "execute_result"
    }
   ],
   "source": [
    "grid.best_params_"
   ]
  },
  {
   "cell_type": "markdown",
   "id": "d3aad652",
   "metadata": {
    "papermill": {
     "duration": 0.010998,
     "end_time": "2024-02-23T14:21:35.816876",
     "exception": false,
     "start_time": "2024-02-23T14:21:35.805878",
     "status": "completed"
    },
    "tags": []
   },
   "source": [
    "**evaluate**"
   ]
  },
  {
   "cell_type": "code",
   "execution_count": 24,
   "id": "e659254b",
   "metadata": {
    "execution": {
     "iopub.execute_input": "2024-02-23T14:21:35.842458Z",
     "iopub.status.busy": "2024-02-23T14:21:35.841058Z",
     "iopub.status.idle": "2024-02-23T14:21:40.264070Z",
     "shell.execute_reply": "2024-02-23T14:21:40.262849Z"
    },
    "papermill": {
     "duration": 4.438697,
     "end_time": "2024-02-23T14:21:40.266944",
     "exception": false,
     "start_time": "2024-02-23T14:21:35.828247",
     "status": "completed"
    },
    "tags": []
   },
   "outputs": [
    {
     "name": "stdout",
     "output_type": "stream",
     "text": [
      "Accuracy: 0.8612959361244754\n",
      "Recall: 0.6196473551637279\n",
      "F1 Score: 0.6853958671929418\n"
     ]
    }
   ],
   "source": [
    "from sklearn.metrics import accuracy_score, precision_score, recall_score, f1_score, roc_auc_score\n",
    "\n",
    "y_pred = grid.predict(X_test)\n",
    "\n",
    "accuracy = accuracy_score(y_test, y_pred)\n",
    "precision = precision_score(y_test, y_pred)\n",
    "recall = recall_score(y_test, y_pred)\n",
    "f1 = f1_score(y_test, y_pred)\n",
    "roc_auc = roc_auc_score(y_test, y_pred)\n",
    "\n",
    "print(\"Accuracy:\", accuracy)\n",
    "print(\"Recall:\", recall)\n",
    "print(\"F1 Score:\", f1)"
   ]
  }
 ],
 "metadata": {
  "kaggle": {
   "accelerator": "none",
   "dataSources": [
    {
     "datasetId": 222,
     "sourceId": 472,
     "sourceType": "datasetVersion"
    }
   ],
   "dockerImageVersionId": 30646,
   "isGpuEnabled": false,
   "isInternetEnabled": false,
   "language": "python",
   "sourceType": "notebook"
  },
  "kernelspec": {
   "display_name": "Python 3",
   "language": "python",
   "name": "python3"
  },
  "language_info": {
   "codemirror_mode": {
    "name": "ipython",
    "version": 3
   },
   "file_extension": ".py",
   "mimetype": "text/x-python",
   "name": "python",
   "nbconvert_exporter": "python",
   "pygments_lexer": "ipython3",
   "version": "3.10.13"
  },
  "papermill": {
   "default_parameters": {},
   "duration": 444.774407,
   "end_time": "2024-02-23T14:21:41.005147",
   "environment_variables": {},
   "exception": null,
   "input_path": "__notebook__.ipynb",
   "output_path": "__notebook__.ipynb",
   "parameters": {},
   "start_time": "2024-02-23T14:14:16.230740",
   "version": "2.5.0"
  }
 },
 "nbformat": 4,
 "nbformat_minor": 5
}
